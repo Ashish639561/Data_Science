{
 "cells": [
  {
   "cell_type": "code",
   "execution_count": 1,
   "id": "2d6eaba0",
   "metadata": {},
   "outputs": [],
   "source": [
    "import numpy as np\n",
    "import pandas as pd\n",
    "import matplotlib.pyplot as plt\n",
    "import seaborn as sns"
   ]
  },
  {
   "cell_type": "code",
   "execution_count": 2,
   "id": "06e97d53",
   "metadata": {},
   "outputs": [
    {
     "data": {
      "text/html": [
       "<div>\n",
       "<style scoped>\n",
       "    .dataframe tbody tr th:only-of-type {\n",
       "        vertical-align: middle;\n",
       "    }\n",
       "\n",
       "    .dataframe tbody tr th {\n",
       "        vertical-align: top;\n",
       "    }\n",
       "\n",
       "    .dataframe thead th {\n",
       "        text-align: right;\n",
       "    }\n",
       "</style>\n",
       "<table border=\"1\" class=\"dataframe\">\n",
       "  <thead>\n",
       "    <tr style=\"text-align: right;\">\n",
       "      <th></th>\n",
       "      <th>case_id</th>\n",
       "      <th>continent</th>\n",
       "      <th>education_of_employee</th>\n",
       "      <th>has_job_experience</th>\n",
       "      <th>requires_job_training</th>\n",
       "      <th>no_of_employees</th>\n",
       "      <th>yr_of_estab</th>\n",
       "      <th>region_of_employment</th>\n",
       "      <th>prevailing_wage</th>\n",
       "      <th>unit_of_wage</th>\n",
       "      <th>full_time_position</th>\n",
       "      <th>case_status</th>\n",
       "    </tr>\n",
       "  </thead>\n",
       "  <tbody>\n",
       "    <tr>\n",
       "      <th>0</th>\n",
       "      <td>EZYV01</td>\n",
       "      <td>Asia</td>\n",
       "      <td>High School</td>\n",
       "      <td>N</td>\n",
       "      <td>N</td>\n",
       "      <td>14513</td>\n",
       "      <td>2007</td>\n",
       "      <td>West</td>\n",
       "      <td>592.2029</td>\n",
       "      <td>Hour</td>\n",
       "      <td>Y</td>\n",
       "      <td>Denied</td>\n",
       "    </tr>\n",
       "    <tr>\n",
       "      <th>1</th>\n",
       "      <td>EZYV02</td>\n",
       "      <td>Asia</td>\n",
       "      <td>Master's</td>\n",
       "      <td>Y</td>\n",
       "      <td>N</td>\n",
       "      <td>2412</td>\n",
       "      <td>2002</td>\n",
       "      <td>Northeast</td>\n",
       "      <td>83425.6500</td>\n",
       "      <td>Year</td>\n",
       "      <td>Y</td>\n",
       "      <td>Certified</td>\n",
       "    </tr>\n",
       "    <tr>\n",
       "      <th>2</th>\n",
       "      <td>EZYV03</td>\n",
       "      <td>Asia</td>\n",
       "      <td>Bachelor's</td>\n",
       "      <td>N</td>\n",
       "      <td>Y</td>\n",
       "      <td>44444</td>\n",
       "      <td>2008</td>\n",
       "      <td>West</td>\n",
       "      <td>122996.8600</td>\n",
       "      <td>Year</td>\n",
       "      <td>Y</td>\n",
       "      <td>Denied</td>\n",
       "    </tr>\n",
       "    <tr>\n",
       "      <th>3</th>\n",
       "      <td>EZYV04</td>\n",
       "      <td>Asia</td>\n",
       "      <td>Bachelor's</td>\n",
       "      <td>N</td>\n",
       "      <td>N</td>\n",
       "      <td>98</td>\n",
       "      <td>1897</td>\n",
       "      <td>West</td>\n",
       "      <td>83434.0300</td>\n",
       "      <td>Year</td>\n",
       "      <td>Y</td>\n",
       "      <td>Denied</td>\n",
       "    </tr>\n",
       "    <tr>\n",
       "      <th>4</th>\n",
       "      <td>EZYV05</td>\n",
       "      <td>Africa</td>\n",
       "      <td>Master's</td>\n",
       "      <td>Y</td>\n",
       "      <td>N</td>\n",
       "      <td>1082</td>\n",
       "      <td>2005</td>\n",
       "      <td>South</td>\n",
       "      <td>149907.3900</td>\n",
       "      <td>Year</td>\n",
       "      <td>Y</td>\n",
       "      <td>Certified</td>\n",
       "    </tr>\n",
       "    <tr>\n",
       "      <th>...</th>\n",
       "      <td>...</td>\n",
       "      <td>...</td>\n",
       "      <td>...</td>\n",
       "      <td>...</td>\n",
       "      <td>...</td>\n",
       "      <td>...</td>\n",
       "      <td>...</td>\n",
       "      <td>...</td>\n",
       "      <td>...</td>\n",
       "      <td>...</td>\n",
       "      <td>...</td>\n",
       "      <td>...</td>\n",
       "    </tr>\n",
       "    <tr>\n",
       "      <th>25475</th>\n",
       "      <td>EZYV25476</td>\n",
       "      <td>Asia</td>\n",
       "      <td>Bachelor's</td>\n",
       "      <td>Y</td>\n",
       "      <td>Y</td>\n",
       "      <td>2601</td>\n",
       "      <td>2008</td>\n",
       "      <td>South</td>\n",
       "      <td>77092.5700</td>\n",
       "      <td>Year</td>\n",
       "      <td>Y</td>\n",
       "      <td>Certified</td>\n",
       "    </tr>\n",
       "    <tr>\n",
       "      <th>25476</th>\n",
       "      <td>EZYV25477</td>\n",
       "      <td>Asia</td>\n",
       "      <td>High School</td>\n",
       "      <td>Y</td>\n",
       "      <td>N</td>\n",
       "      <td>3274</td>\n",
       "      <td>2006</td>\n",
       "      <td>Northeast</td>\n",
       "      <td>279174.7900</td>\n",
       "      <td>Year</td>\n",
       "      <td>Y</td>\n",
       "      <td>Certified</td>\n",
       "    </tr>\n",
       "    <tr>\n",
       "      <th>25477</th>\n",
       "      <td>EZYV25478</td>\n",
       "      <td>Asia</td>\n",
       "      <td>Master's</td>\n",
       "      <td>Y</td>\n",
       "      <td>N</td>\n",
       "      <td>1121</td>\n",
       "      <td>1910</td>\n",
       "      <td>South</td>\n",
       "      <td>146298.8500</td>\n",
       "      <td>Year</td>\n",
       "      <td>N</td>\n",
       "      <td>Certified</td>\n",
       "    </tr>\n",
       "    <tr>\n",
       "      <th>25478</th>\n",
       "      <td>EZYV25479</td>\n",
       "      <td>Asia</td>\n",
       "      <td>Master's</td>\n",
       "      <td>Y</td>\n",
       "      <td>Y</td>\n",
       "      <td>1918</td>\n",
       "      <td>1887</td>\n",
       "      <td>West</td>\n",
       "      <td>86154.7700</td>\n",
       "      <td>Year</td>\n",
       "      <td>Y</td>\n",
       "      <td>Certified</td>\n",
       "    </tr>\n",
       "    <tr>\n",
       "      <th>25479</th>\n",
       "      <td>EZYV25480</td>\n",
       "      <td>Asia</td>\n",
       "      <td>Bachelor's</td>\n",
       "      <td>Y</td>\n",
       "      <td>N</td>\n",
       "      <td>3195</td>\n",
       "      <td>1960</td>\n",
       "      <td>Midwest</td>\n",
       "      <td>70876.9100</td>\n",
       "      <td>Year</td>\n",
       "      <td>Y</td>\n",
       "      <td>Certified</td>\n",
       "    </tr>\n",
       "  </tbody>\n",
       "</table>\n",
       "<p>25480 rows × 12 columns</p>\n",
       "</div>"
      ],
      "text/plain": [
       "         case_id continent education_of_employee has_job_experience  \\\n",
       "0         EZYV01      Asia           High School                  N   \n",
       "1         EZYV02      Asia              Master's                  Y   \n",
       "2         EZYV03      Asia            Bachelor's                  N   \n",
       "3         EZYV04      Asia            Bachelor's                  N   \n",
       "4         EZYV05    Africa              Master's                  Y   \n",
       "...          ...       ...                   ...                ...   \n",
       "25475  EZYV25476      Asia            Bachelor's                  Y   \n",
       "25476  EZYV25477      Asia           High School                  Y   \n",
       "25477  EZYV25478      Asia              Master's                  Y   \n",
       "25478  EZYV25479      Asia              Master's                  Y   \n",
       "25479  EZYV25480      Asia            Bachelor's                  Y   \n",
       "\n",
       "      requires_job_training  no_of_employees  yr_of_estab  \\\n",
       "0                         N            14513         2007   \n",
       "1                         N             2412         2002   \n",
       "2                         Y            44444         2008   \n",
       "3                         N               98         1897   \n",
       "4                         N             1082         2005   \n",
       "...                     ...              ...          ...   \n",
       "25475                     Y             2601         2008   \n",
       "25476                     N             3274         2006   \n",
       "25477                     N             1121         1910   \n",
       "25478                     Y             1918         1887   \n",
       "25479                     N             3195         1960   \n",
       "\n",
       "      region_of_employment  prevailing_wage unit_of_wage full_time_position  \\\n",
       "0                     West         592.2029         Hour                  Y   \n",
       "1                Northeast       83425.6500         Year                  Y   \n",
       "2                     West      122996.8600         Year                  Y   \n",
       "3                     West       83434.0300         Year                  Y   \n",
       "4                    South      149907.3900         Year                  Y   \n",
       "...                    ...              ...          ...                ...   \n",
       "25475                South       77092.5700         Year                  Y   \n",
       "25476            Northeast      279174.7900         Year                  Y   \n",
       "25477                South      146298.8500         Year                  N   \n",
       "25478                 West       86154.7700         Year                  Y   \n",
       "25479              Midwest       70876.9100         Year                  Y   \n",
       "\n",
       "      case_status  \n",
       "0          Denied  \n",
       "1       Certified  \n",
       "2          Denied  \n",
       "3          Denied  \n",
       "4       Certified  \n",
       "...           ...  \n",
       "25475   Certified  \n",
       "25476   Certified  \n",
       "25477   Certified  \n",
       "25478   Certified  \n",
       "25479   Certified  \n",
       "\n",
       "[25480 rows x 12 columns]"
      ]
     },
     "execution_count": 2,
     "metadata": {},
     "output_type": "execute_result"
    }
   ],
   "source": [
    "file_path = r\"C:\\Users\\LENOVO\\Documents\\Data_Science\\Naresh_it\\Data Science\\Batch october\\datasets\\omkar_sir_datasets\\Visadataset.csv\"\n",
    "visa_df = pd.read_csv(file_path)\n",
    "visa_df"
   ]
  },
  {
   "cell_type": "markdown",
   "id": "f1e33a75",
   "metadata": {},
   "source": [
    "$Box$-$Plot$\n",
    "\n",
    "<img id=\"dimg_Wk1IaNLdGaLgseMP6a2M2Ac_27\" src=\"data:image/png;base64,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\" class=\"YQ4gaf\" height=\"200\" style=\"object-position:37% 40%\" width=\"500\" alt=\"Understanding Boxplots - KDnuggets\" data-csiid=\"Wk1IaNLdGaLgseMP6a2M2Ac_6\" data-atf=\"1\">"
   ]
  },
  {
   "cell_type": "code",
   "execution_count": 3,
   "id": "ae9e8bb2",
   "metadata": {},
   "outputs": [
    {
     "data": {
      "image/png": "[encoded data removed]",
      "text/plain": [
       "<Figure size 640x480 with 1 Axes>"
      ]
     },
     "metadata": {},
     "output_type": "display_data"
    }
   ],
   "source": [
    "plt.boxplot(visa_df['prevailing_wage'],vert=False,orientation=\"vertcal\",patch_artist=True)\n",
    "plt.show()"
   ]
  },
  {
   "cell_type": "code",
   "execution_count": 46,
   "id": "e5ac9f26",
   "metadata": {},
   "outputs": [
    {
     "data": {
      "image/png": "[encoded data removed]",
      "text/plain": [
       "<Figure size 640x480 with 1 Axes>"
      ]
     },
     "metadata": {},
     "output_type": "display_data"
    }
   ],
   "source": [
    "plt.hist(visa_df['prevailing_wage'],bins=40)\n",
    "plt.show()"
   ]
  },
  {
   "cell_type": "code",
   "execution_count": 47,
   "id": "e5d45928",
   "metadata": {},
   "outputs": [
    {
     "data": {
      "image/png": "[encoded data removed]",
      "text/plain": [
       "<Figure size 640x480 with 1 Axes>"
      ]
     },
     "metadata": {},
     "output_type": "display_data"
    }
   ],
   "source": [
    "sns.boxplot(visa_df['prevailing_wage'],orient='h')\n",
    "plt.show()"
   ]
  },
  {
   "cell_type": "markdown",
   "id": "956ac845",
   "metadata": {},
   "source": [
    "$Dealing$-$Outliers$\n",
    "\n",
    "- Removal of Outliers\n",
    "- Impute the outliers with median value\n",
    "  - because median is not impacted by outliers\n",
    "- Cap the outliers with q1,which are having more than q1\n",
    "- Cap the outliers with q3,which are having less than q3  "
   ]
  },
  {
   "cell_type": "markdown",
   "id": "655c49dd",
   "metadata": {},
   "source": [
    "__Find the outliers__\n",
    "- step1: find q1,q2,q3\n",
    "- step2: calculate iqr = q3-q1\n",
    "- step3: upper bound(ub) = q3 + 1.5*iqr\n",
    "- step4: lower bound(lb) = q3 - 1.5*iqr\n",
    "- step5: condition1 = column < lb\n",
    "- step6: condition2 = column > ub\n",
    "- step7: (condition1) | (condition2)\n",
    "- step8: column[(condition1) | (condition2)]"
   ]
  },
  {
   "cell_type": "code",
   "execution_count": 48,
   "id": "06197276",
   "metadata": {},
   "outputs": [
    {
     "name": "stdout",
     "output_type": "stream",
     "text": [
      "34015.479999999996 70308.20999999999 107735.51250000001 73720.03250000002\n"
     ]
    }
   ],
   "source": [
    "q1=np.percentile(visa_df['prevailing_wage'],25)\n",
    "q2=np.percentile(visa_df['prevailing_wage'],50)\n",
    "q3=np.percentile(visa_df['prevailing_wage'],75)\n",
    "iqr=q3-q1\n",
    "print(q1,q2,q3,iqr)"
   ]
  },
  {
   "cell_type": "code",
   "execution_count": 52,
   "id": "1714ffd4",
   "metadata": {},
   "outputs": [
    {
     "data": {
      "text/plain": [
       "427"
      ]
     },
     "execution_count": 52,
     "metadata": {},
     "output_type": "execute_result"
    }
   ],
   "source": [
    "lower_bound = q1-1.5*iqr\n",
    "upper_bound = q3+1.5*iqr\n",
    "cond1 = visa_df['prevailing_wage'] < lower_bound\n",
    "cond2 = visa_df['prevailing_wage'] > upper_bound\n",
    "outliers = visa_df['prevailing_wage'][cond1|cond2]\n",
    "outliers\n",
    "type(outliers)\n",
    "# now convert this series into array of values using .values\n",
    "outliers_data=outliers.values\n",
    "outliers_data\n",
    "len(outliers_data)"
   ]
  },
  {
   "cell_type": "code",
   "execution_count": 46,
   "id": "d3eed9f2",
   "metadata": {},
   "outputs": [
    {
     "data": {
      "text/plain": [
       "427"
      ]
     },
     "execution_count": 46,
     "metadata": {},
     "output_type": "execute_result"
    }
   ],
   "source": [
    "def outliers():\n",
    "    q1=np.percentile(visa_df['prevailing_wage'],25)\n",
    "    q2=np.percentile(visa_df['prevailing_wage'],50)\n",
    "    q3=np.percentile(visa_df['prevailing_wage'],75)\n",
    "    iqr=q3-q1\n",
    "    lower_bound = q1-1.5*iqr\n",
    "    upper_bound = q3+1.5*iqr\n",
    "    cond1 = visa_df['prevailing_wage'] < lower_bound\n",
    "    cond2 = visa_df['prevailing_wage'] > upper_bound\n",
    "    outliers = visa_df['prevailing_wage'][cond1|cond2]\n",
    "    outliers\n",
    "    #now convert this series into array of values using .values\n",
    "    outliers_data=outliers.values\n",
    "    return outliers_data\n",
    "\n",
    "outliers_data = outliers()\n",
    "len(outliers_data)\n"
   ]
  },
  {
   "cell_type": "code",
   "execution_count": 53,
   "id": "dd94eda3",
   "metadata": {},
   "outputs": [
    {
     "data": {
      "image/png": "[encoded data removed]",
      "text/plain": [
       "<Figure size 640x480 with 1 Axes>"
      ]
     },
     "metadata": {},
     "output_type": "display_data"
    }
   ],
   "source": [
    "plt.boxplot(outliers_data,vert=False,patch_artist=True)\n",
    "plt.show()"
   ]
  },
  {
   "cell_type": "code",
   "execution_count": 54,
   "id": "70ce3a72",
   "metadata": {},
   "outputs": [
    {
     "data": {
      "text/plain": [
       "1.6758241758241759"
      ]
     },
     "execution_count": 54,
     "metadata": {},
     "output_type": "execute_result"
    }
   ],
   "source": [
    "outliers_percentage = len(outliers_data)/len(visa_df['prevailing_wage'])*100\n",
    "outliers_percentage"
   ]
  },
  {
   "cell_type": "markdown",
   "id": "3b619b22",
   "metadata": {},
   "source": [
    "$Case-1$:\n",
    "\n",
    "__Removal of outliers__\n",
    "\n",
    "- we have 427 outliers in prevailing_wage column\n",
    "- that mean we have to remove all 427 rows from entire dataframe"
   ]
  },
  {
   "cell_type": "code",
   "execution_count": 56,
   "id": "c1b44a1e",
   "metadata": {},
   "outputs": [
    {
     "data": {
      "text/plain": [
       "25053"
      ]
     },
     "execution_count": 56,
     "metadata": {},
     "output_type": "execute_result"
    }
   ],
   "source": [
    "#non outliers data of prevailing_wage column\n",
    "q1=np.percentile(visa_df['prevailing_wage'],25)\n",
    "q2=np.percentile(visa_df['prevailing_wage'],50)\n",
    "q3=np.percentile(visa_df['prevailing_wage'],75)\n",
    "iqr=q3-q1\n",
    "lower_bound = q1-1.5*iqr\n",
    "upper_bound = q3+1.5*iqr\n",
    "cond1 = visa_df['prevailing_wage'] > lower_bound\n",
    "cond2 = visa_df['prevailing_wage'] < upper_bound\n",
    "non_outliers = visa_df[cond1&cond2]\n",
    "non_outliers\n",
    "len(non_outliers.values)"
   ]
  },
  {
   "cell_type": "code",
   "execution_count": 57,
   "id": "1699eb2c",
   "metadata": {},
   "outputs": [
    {
     "data": {
      "image/png": "[encoded data removed]",
      "text/plain": [
       "<Figure size 640x480 with 1 Axes>"
      ]
     },
     "metadata": {},
     "output_type": "display_data"
    }
   ],
   "source": [
    "plt.boxplot(non_outliers['prevailing_wage'],vert=False,patch_artist=True)\n",
    "plt.show()"
   ]
  },
  {
   "cell_type": "code",
   "execution_count": 58,
   "id": "1a21b8d2",
   "metadata": {},
   "outputs": [
    {
     "data": {
      "image/png": "[encoded data removed]",
      "text/plain": [
       "<Figure size 640x480 with 1 Axes>"
      ]
     },
     "metadata": {},
     "output_type": "display_data"
    }
   ],
   "source": [
    "plt.hist(non_outliers['prevailing_wage'],bins=40)\n",
    "plt.show()"
   ]
  },
  {
   "cell_type": "code",
   "execution_count": 59,
   "id": "a32ccc4b",
   "metadata": {},
   "outputs": [
    {
     "data": {
      "image/png": "[encoded data removed]",
      "text/plain": [
       "<Figure size 900x800 with 4 Axes>"
      ]
     },
     "metadata": {},
     "output_type": "display_data"
    }
   ],
   "source": [
    "plt.figure(figsize=(9,8))\n",
    "plt.subplot(2,2,1)\n",
    "plt.title('non outliers data')\n",
    "plt.boxplot(non_outliers['prevailing_wage'],vert=False,patch_artist=True)\n",
    "\n",
    "plt.subplot(2,2,2)\n",
    "plt.title('outliers data')\n",
    "plt.boxplot(visa_df['prevailing_wage'],vert=False,patch_artist=True)\n",
    "\n",
    "plt.subplot(2,2,3)\n",
    "plt.title('non outliers data')\n",
    "plt.hist(non_outliers['prevailing_wage'],bins=40)\n",
    "\n",
    "plt.subplot(2,2,4)\n",
    "plt.title('outliers data')\n",
    "plt.hist(visa_df['prevailing_wage'],bins=40)\n",
    "\n",
    "# 🔽 Common subtitle\n",
    "plt.suptitle(\"prevailing_wage\", fontsize=16)\n",
    "plt.show()"
   ]
  },
  {
   "cell_type": "markdown",
   "id": "67fb57e8",
   "metadata": {},
   "source": [
    "$Case-2$:\n",
    "\n",
    "__Impute with Median__\n",
    "\n",
    "- We got 427 outliers in prevailing_wage\n",
    "- We will replace those 427 outliers value with median of prevailing_wage"
   ]
  },
  {
   "cell_type": "code",
   "execution_count": 83,
   "id": "b4a9b485",
   "metadata": {},
   "outputs": [
    {
     "data": {
      "text/plain": [
       "(218315.56125000003, -76564.56875000002)"
      ]
     },
     "execution_count": 83,
     "metadata": {},
     "output_type": "execute_result"
    }
   ],
   "source": [
    "upper_bound,lower_bound"
   ]
  },
  {
   "cell_type": "code",
   "execution_count": 60,
   "id": "c94aaadb",
   "metadata": {},
   "outputs": [
    {
     "data": {
      "text/plain": [
       "25480"
      ]
     },
     "execution_count": 60,
     "metadata": {},
     "output_type": "execute_result"
    }
   ],
   "source": [
    "new_values=[]\n",
    "for i in visa_df['prevailing_wage'].values:\n",
    "    if i>upper_bound or i <lower_bound:\n",
    "        new_values.append(visa_df['prevailing_wage'].median())\n",
    "    else:\n",
    "        new_values.append(i)\n",
    "len(new_values)\n",
    "#we are iterating through prevailing_wage data\n",
    "# if any datapoint > ub or <lb means it is a outliers so in that position \n",
    "                #we are keeping median value of the column\n",
    "#otherwise we are keeping same value  "
   ]
  },
  {
   "cell_type": "markdown",
   "id": "fc9e257b",
   "metadata": {},
   "source": [
    "$np.where$"
   ]
  },
  {
   "cell_type": "code",
   "execution_count": 25,
   "id": "e1a9d4a9",
   "metadata": {},
   "outputs": [
    {
     "data": {
      "text/html": [
       "<div>\n",
       "<style scoped>\n",
       "    .dataframe tbody tr th:only-of-type {\n",
       "        vertical-align: middle;\n",
       "    }\n",
       "\n",
       "    .dataframe tbody tr th {\n",
       "        vertical-align: top;\n",
       "    }\n",
       "\n",
       "    .dataframe thead th {\n",
       "        text-align: right;\n",
       "    }\n",
       "</style>\n",
       "<table border=\"1\" class=\"dataframe\">\n",
       "  <thead>\n",
       "    <tr style=\"text-align: right;\">\n",
       "      <th></th>\n",
       "      <th>col1</th>\n",
       "      <th>col2</th>\n",
       "    </tr>\n",
       "  </thead>\n",
       "  <tbody>\n",
       "    <tr>\n",
       "      <th>0</th>\n",
       "      <td>1</td>\n",
       "      <td>A</td>\n",
       "    </tr>\n",
       "    <tr>\n",
       "      <th>1</th>\n",
       "      <td>2</td>\n",
       "      <td>B</td>\n",
       "    </tr>\n",
       "    <tr>\n",
       "      <th>2</th>\n",
       "      <td>3</td>\n",
       "      <td>C</td>\n",
       "    </tr>\n",
       "    <tr>\n",
       "      <th>3</th>\n",
       "      <td>4</td>\n",
       "      <td>D</td>\n",
       "    </tr>\n",
       "  </tbody>\n",
       "</table>\n",
       "</div>"
      ],
      "text/plain": [
       "   col1 col2\n",
       "0     1    A\n",
       "1     2    B\n",
       "2     3    C\n",
       "3     4    D"
      ]
     },
     "execution_count": 25,
     "metadata": {},
     "output_type": "execute_result"
    }
   ],
   "source": [
    "dict1 = {'col1':[1,2,3,4],'col2':['A','B','C','D']}\n",
    "data = pd.DataFrame(dict1)\n",
    "data\n",
    "# i want to impute a value 100 in col1\n",
    "# which are having value >2"
   ]
  },
  {
   "cell_type": "code",
   "execution_count": 26,
   "id": "e7e19fb2",
   "metadata": {},
   "outputs": [
    {
     "data": {
      "text/plain": [
       "0    False\n",
       "1    False\n",
       "2     True\n",
       "3     True\n",
       "Name: col1, dtype: bool"
      ]
     },
     "execution_count": 26,
     "metadata": {},
     "output_type": "execute_result"
    }
   ],
   "source": [
    "data['col1'] > 2"
   ]
  },
  {
   "cell_type": "markdown",
   "id": "4671bc09",
   "metadata": {},
   "source": [
    "- np.where will take 3 arguments\n",
    "- condition cond = data['col']>2\n",
    "- if that condition is True will provide the value 100\n",
    "- if that condition is False will keep the same value data['col']\n",
    "- np.where(<cond>,<True_value>,<False_value>)"
   ]
  },
  {
   "cell_type": "code",
   "execution_count": 27,
   "id": "3db89093",
   "metadata": {},
   "outputs": [
    {
     "data": {
      "text/plain": [
       "array([  1,   2, 100, 100], dtype=int64)"
      ]
     },
     "execution_count": 27,
     "metadata": {},
     "output_type": "execute_result"
    }
   ],
   "source": [
    "cond = data['col1']>2\n",
    "new_data = np.where(cond,100,data['col1'])\n",
    "new_data"
   ]
  },
  {
   "cell_type": "markdown",
   "id": "3c40a889",
   "metadata": {},
   "source": [
    "$Case-1$:\n",
    "\n",
    "_Create a new Column_"
   ]
  },
  {
   "cell_type": "code",
   "execution_count": 28,
   "id": "4ed9029c",
   "metadata": {},
   "outputs": [
    {
     "data": {
      "text/html": [
       "<div>\n",
       "<style scoped>\n",
       "    .dataframe tbody tr th:only-of-type {\n",
       "        vertical-align: middle;\n",
       "    }\n",
       "\n",
       "    .dataframe tbody tr th {\n",
       "        vertical-align: top;\n",
       "    }\n",
       "\n",
       "    .dataframe thead th {\n",
       "        text-align: right;\n",
       "    }\n",
       "</style>\n",
       "<table border=\"1\" class=\"dataframe\">\n",
       "  <thead>\n",
       "    <tr style=\"text-align: right;\">\n",
       "      <th></th>\n",
       "      <th>col1</th>\n",
       "      <th>col2</th>\n",
       "      <th>new_col</th>\n",
       "    </tr>\n",
       "  </thead>\n",
       "  <tbody>\n",
       "    <tr>\n",
       "      <th>0</th>\n",
       "      <td>1</td>\n",
       "      <td>A</td>\n",
       "      <td>1</td>\n",
       "    </tr>\n",
       "    <tr>\n",
       "      <th>1</th>\n",
       "      <td>2</td>\n",
       "      <td>B</td>\n",
       "      <td>2</td>\n",
       "    </tr>\n",
       "    <tr>\n",
       "      <th>2</th>\n",
       "      <td>3</td>\n",
       "      <td>C</td>\n",
       "      <td>100</td>\n",
       "    </tr>\n",
       "    <tr>\n",
       "      <th>3</th>\n",
       "      <td>4</td>\n",
       "      <td>D</td>\n",
       "      <td>100</td>\n",
       "    </tr>\n",
       "  </tbody>\n",
       "</table>\n",
       "</div>"
      ],
      "text/plain": [
       "   col1 col2  new_col\n",
       "0     1    A        1\n",
       "1     2    B        2\n",
       "2     3    C      100\n",
       "3     4    D      100"
      ]
     },
     "execution_count": 28,
     "metadata": {},
     "output_type": "execute_result"
    }
   ],
   "source": [
    "data['new_col'] = new_data\n",
    "data"
   ]
  },
  {
   "cell_type": "markdown",
   "id": "34481511",
   "metadata": {},
   "source": [
    "$Case-2:$\n",
    "\n",
    "_Overwrite the column values_"
   ]
  },
  {
   "cell_type": "code",
   "execution_count": 29,
   "id": "afffb02d",
   "metadata": {},
   "outputs": [
    {
     "data": {
      "text/html": [
       "<div>\n",
       "<style scoped>\n",
       "    .dataframe tbody tr th:only-of-type {\n",
       "        vertical-align: middle;\n",
       "    }\n",
       "\n",
       "    .dataframe tbody tr th {\n",
       "        vertical-align: top;\n",
       "    }\n",
       "\n",
       "    .dataframe thead th {\n",
       "        text-align: right;\n",
       "    }\n",
       "</style>\n",
       "<table border=\"1\" class=\"dataframe\">\n",
       "  <thead>\n",
       "    <tr style=\"text-align: right;\">\n",
       "      <th></th>\n",
       "      <th>col1</th>\n",
       "      <th>col2</th>\n",
       "      <th>new_col</th>\n",
       "    </tr>\n",
       "  </thead>\n",
       "  <tbody>\n",
       "    <tr>\n",
       "      <th>0</th>\n",
       "      <td>1</td>\n",
       "      <td>A</td>\n",
       "      <td>1</td>\n",
       "    </tr>\n",
       "    <tr>\n",
       "      <th>1</th>\n",
       "      <td>2</td>\n",
       "      <td>B</td>\n",
       "      <td>2</td>\n",
       "    </tr>\n",
       "    <tr>\n",
       "      <th>2</th>\n",
       "      <td>100</td>\n",
       "      <td>C</td>\n",
       "      <td>100</td>\n",
       "    </tr>\n",
       "    <tr>\n",
       "      <th>3</th>\n",
       "      <td>100</td>\n",
       "      <td>D</td>\n",
       "      <td>100</td>\n",
       "    </tr>\n",
       "  </tbody>\n",
       "</table>\n",
       "</div>"
      ],
      "text/plain": [
       "   col1 col2  new_col\n",
       "0     1    A        1\n",
       "1     2    B        2\n",
       "2   100    C      100\n",
       "3   100    D      100"
      ]
     },
     "execution_count": 29,
     "metadata": {},
     "output_type": "execute_result"
    }
   ],
   "source": [
    "data['col1'] = new_data\n",
    "data"
   ]
  },
  {
   "cell_type": "code",
   "execution_count": 32,
   "id": "0ffa2b92",
   "metadata": {},
   "outputs": [],
   "source": [
    "#Drop unwanted columns\n",
    "data.drop(['new_col'],axis=1,inplace=True)"
   ]
  },
  {
   "cell_type": "code",
   "execution_count": 33,
   "id": "387de31a",
   "metadata": {},
   "outputs": [
    {
     "data": {
      "text/html": [
       "<div>\n",
       "<style scoped>\n",
       "    .dataframe tbody tr th:only-of-type {\n",
       "        vertical-align: middle;\n",
       "    }\n",
       "\n",
       "    .dataframe tbody tr th {\n",
       "        vertical-align: top;\n",
       "    }\n",
       "\n",
       "    .dataframe thead th {\n",
       "        text-align: right;\n",
       "    }\n",
       "</style>\n",
       "<table border=\"1\" class=\"dataframe\">\n",
       "  <thead>\n",
       "    <tr style=\"text-align: right;\">\n",
       "      <th></th>\n",
       "      <th>col1</th>\n",
       "      <th>col2</th>\n",
       "    </tr>\n",
       "  </thead>\n",
       "  <tbody>\n",
       "    <tr>\n",
       "      <th>0</th>\n",
       "      <td>1</td>\n",
       "      <td>A</td>\n",
       "    </tr>\n",
       "    <tr>\n",
       "      <th>1</th>\n",
       "      <td>2</td>\n",
       "      <td>B</td>\n",
       "    </tr>\n",
       "    <tr>\n",
       "      <th>2</th>\n",
       "      <td>100</td>\n",
       "      <td>C</td>\n",
       "    </tr>\n",
       "    <tr>\n",
       "      <th>3</th>\n",
       "      <td>100</td>\n",
       "      <td>D</td>\n",
       "    </tr>\n",
       "  </tbody>\n",
       "</table>\n",
       "</div>"
      ],
      "text/plain": [
       "   col1 col2\n",
       "0     1    A\n",
       "1     2    B\n",
       "2   100    C\n",
       "3   100    D"
      ]
     },
     "execution_count": 33,
     "metadata": {},
     "output_type": "execute_result"
    }
   ],
   "source": [
    "data"
   ]
  },
  {
   "cell_type": "markdown",
   "id": "76394576",
   "metadata": {},
   "source": [
    "__Implement the same thing with prevailing_wage__"
   ]
  },
  {
   "cell_type": "code",
   "execution_count": 61,
   "id": "a8c06013",
   "metadata": {},
   "outputs": [
    {
     "data": {
      "text/plain": [
       "0           592.2029\n",
       "1         83425.6500\n",
       "2        122996.8600\n",
       "3         83434.0300\n",
       "4        149907.3900\n",
       "            ...     \n",
       "25475     77092.5700\n",
       "25476    279174.7900\n",
       "25477    146298.8500\n",
       "25478     86154.7700\n",
       "25479     70876.9100\n",
       "Name: prevailing_wage, Length: 25480, dtype: float64"
      ]
     },
     "execution_count": 61,
     "metadata": {},
     "output_type": "execute_result"
    }
   ],
   "source": [
    "visa_df['prevailing_wage']"
   ]
  },
  {
   "cell_type": "code",
   "execution_count": 64,
   "id": "5605cee3",
   "metadata": {},
   "outputs": [
    {
     "data": {
      "text/plain": [
       "0           592.2029\n",
       "1         83425.6500\n",
       "2        122996.8600\n",
       "3         83434.0300\n",
       "4        149907.3900\n",
       "            ...     \n",
       "25475     77092.5700\n",
       "25476     70308.2100\n",
       "25477    146298.8500\n",
       "25478     86154.7700\n",
       "25479     70876.9100\n",
       "Name: prevailing_wage, Length: 25480, dtype: float64"
      ]
     },
     "execution_count": 64,
     "metadata": {},
     "output_type": "execute_result"
    }
   ],
   "source": [
    "pre_con_1 = visa_df['prevailing_wage']>upper_bound\n",
    "pre_con_2 = visa_df['prevailing_wage']<lower_bound\n",
    "prevailing_cond = pre_con_1|pre_con_2\n",
    "prevailing_cond\n",
    "visa_df['prevailing_wage'] = np.where(prevailing_cond,visa_df['prevailing_wage'].median(),visa_df['prevailing_wage'])\n",
    "visa_df['prevailing_wage']"
   ]
  },
  {
   "cell_type": "code",
   "execution_count": 65,
   "id": "84c677b9",
   "metadata": {},
   "outputs": [
    {
     "data": {
      "image/png": "[encoded data removed]",
      "text/plain": [
       "<Figure size 640x480 with 1 Axes>"
      ]
     },
     "metadata": {},
     "output_type": "display_data"
    }
   ],
   "source": [
    "plt.boxplot(visa_df['prevailing_wage'],vert=False,patch_artist=True)\n",
    "plt.show()"
   ]
  },
  {
   "cell_type": "code",
   "execution_count": 66,
   "id": "8f0f6c68",
   "metadata": {},
   "outputs": [
    {
     "data": {
      "image/png": "[encoded data removed]",
      "text/plain": [
       "<Figure size 640x480 with 1 Axes>"
      ]
     },
     "metadata": {},
     "output_type": "display_data"
    }
   ],
   "source": [
    "plt.hist(visa_df['prevailing_wage'],bins=40)\n",
    "plt.show()"
   ]
  },
  {
   "cell_type": "code",
   "execution_count": null,
   "id": "907bc7e8",
   "metadata": {},
   "outputs": [
    {
     "data": {
      "text/html": [
       "<div>\n",
       "<style scoped>\n",
       "    .dataframe tbody tr th:only-of-type {\n",
       "        vertical-align: middle;\n",
       "    }\n",
       "\n",
       "    .dataframe tbody tr th {\n",
       "        vertical-align: top;\n",
       "    }\n",
       "\n",
       "    .dataframe thead th {\n",
       "        text-align: right;\n",
       "    }\n",
       "</style>\n",
       "<table border=\"1\" class=\"dataframe\">\n",
       "  <thead>\n",
       "    <tr style=\"text-align: right;\">\n",
       "      <th></th>\n",
       "      <th>case_id</th>\n",
       "      <th>continent</th>\n",
       "      <th>education_of_employee</th>\n",
       "      <th>has_job_experience</th>\n",
       "      <th>requires_job_training</th>\n",
       "      <th>no_of_employees</th>\n",
       "      <th>yr_of_estab</th>\n",
       "      <th>region_of_employment</th>\n",
       "      <th>prevailing_wage</th>\n",
       "      <th>unit_of_wage</th>\n",
       "      <th>full_time_position</th>\n",
       "      <th>case_status</th>\n",
       "    </tr>\n",
       "  </thead>\n",
       "  <tbody>\n",
       "    <tr>\n",
       "      <th>14</th>\n",
       "      <td>EZYV15</td>\n",
       "      <td>Asia</td>\n",
       "      <td>Master's</td>\n",
       "      <td>Y</td>\n",
       "      <td>Y</td>\n",
       "      <td>15756</td>\n",
       "      <td>2006</td>\n",
       "      <td>South</td>\n",
       "      <td>220081.73</td>\n",
       "      <td>Year</td>\n",
       "      <td>Y</td>\n",
       "      <td>Certified</td>\n",
       "    </tr>\n",
       "    <tr>\n",
       "      <th>34</th>\n",
       "      <td>EZYV35</td>\n",
       "      <td>Asia</td>\n",
       "      <td>Master's</td>\n",
       "      <td>N</td>\n",
       "      <td>N</td>\n",
       "      <td>1809</td>\n",
       "      <td>2010</td>\n",
       "      <td>South</td>\n",
       "      <td>225569.73</td>\n",
       "      <td>Year</td>\n",
       "      <td>N</td>\n",
       "      <td>Certified</td>\n",
       "    </tr>\n",
       "    <tr>\n",
       "      <th>130</th>\n",
       "      <td>EZYV131</td>\n",
       "      <td>South America</td>\n",
       "      <td>High School</td>\n",
       "      <td>N</td>\n",
       "      <td>N</td>\n",
       "      <td>2554</td>\n",
       "      <td>2005</td>\n",
       "      <td>Midwest</td>\n",
       "      <td>247393.01</td>\n",
       "      <td>Year</td>\n",
       "      <td>Y</td>\n",
       "      <td>Certified</td>\n",
       "    </tr>\n",
       "    <tr>\n",
       "      <th>216</th>\n",
       "      <td>EZYV217</td>\n",
       "      <td>Asia</td>\n",
       "      <td>Master's</td>\n",
       "      <td>Y</td>\n",
       "      <td>N</td>\n",
       "      <td>1515</td>\n",
       "      <td>2001</td>\n",
       "      <td>Midwest</td>\n",
       "      <td>269321.68</td>\n",
       "      <td>Year</td>\n",
       "      <td>N</td>\n",
       "      <td>Certified</td>\n",
       "    </tr>\n",
       "    <tr>\n",
       "      <th>221</th>\n",
       "      <td>EZYV222</td>\n",
       "      <td>North America</td>\n",
       "      <td>Doctorate</td>\n",
       "      <td>Y</td>\n",
       "      <td>Y</td>\n",
       "      <td>2518</td>\n",
       "      <td>2010</td>\n",
       "      <td>South</td>\n",
       "      <td>219529.62</td>\n",
       "      <td>Year</td>\n",
       "      <td>Y</td>\n",
       "      <td>Certified</td>\n",
       "    </tr>\n",
       "    <tr>\n",
       "      <th>...</th>\n",
       "      <td>...</td>\n",
       "      <td>...</td>\n",
       "      <td>...</td>\n",
       "      <td>...</td>\n",
       "      <td>...</td>\n",
       "      <td>...</td>\n",
       "      <td>...</td>\n",
       "      <td>...</td>\n",
       "      <td>...</td>\n",
       "      <td>...</td>\n",
       "      <td>...</td>\n",
       "      <td>...</td>\n",
       "    </tr>\n",
       "    <tr>\n",
       "      <th>25191</th>\n",
       "      <td>EZYV25192</td>\n",
       "      <td>Asia</td>\n",
       "      <td>Master's</td>\n",
       "      <td>N</td>\n",
       "      <td>N</td>\n",
       "      <td>4983</td>\n",
       "      <td>2005</td>\n",
       "      <td>Midwest</td>\n",
       "      <td>280482.51</td>\n",
       "      <td>Year</td>\n",
       "      <td>Y</td>\n",
       "      <td>Denied</td>\n",
       "    </tr>\n",
       "    <tr>\n",
       "      <th>25195</th>\n",
       "      <td>EZYV25196</td>\n",
       "      <td>North America</td>\n",
       "      <td>Master's</td>\n",
       "      <td>Y</td>\n",
       "      <td>N</td>\n",
       "      <td>47</td>\n",
       "      <td>2001</td>\n",
       "      <td>South</td>\n",
       "      <td>234308.77</td>\n",
       "      <td>Year</td>\n",
       "      <td>N</td>\n",
       "      <td>Certified</td>\n",
       "    </tr>\n",
       "    <tr>\n",
       "      <th>25468</th>\n",
       "      <td>EZYV25469</td>\n",
       "      <td>Asia</td>\n",
       "      <td>Bachelor's</td>\n",
       "      <td>N</td>\n",
       "      <td>N</td>\n",
       "      <td>373</td>\n",
       "      <td>2005</td>\n",
       "      <td>Midwest</td>\n",
       "      <td>272715.74</td>\n",
       "      <td>Year</td>\n",
       "      <td>N</td>\n",
       "      <td>Certified</td>\n",
       "    </tr>\n",
       "    <tr>\n",
       "      <th>25469</th>\n",
       "      <td>EZYV25470</td>\n",
       "      <td>North America</td>\n",
       "      <td>Master's</td>\n",
       "      <td>Y</td>\n",
       "      <td>N</td>\n",
       "      <td>2261</td>\n",
       "      <td>1997</td>\n",
       "      <td>Northeast</td>\n",
       "      <td>273772.47</td>\n",
       "      <td>Year</td>\n",
       "      <td>N</td>\n",
       "      <td>Certified</td>\n",
       "    </tr>\n",
       "    <tr>\n",
       "      <th>25476</th>\n",
       "      <td>EZYV25477</td>\n",
       "      <td>Asia</td>\n",
       "      <td>High School</td>\n",
       "      <td>Y</td>\n",
       "      <td>N</td>\n",
       "      <td>3274</td>\n",
       "      <td>2006</td>\n",
       "      <td>Northeast</td>\n",
       "      <td>279174.79</td>\n",
       "      <td>Year</td>\n",
       "      <td>Y</td>\n",
       "      <td>Certified</td>\n",
       "    </tr>\n",
       "  </tbody>\n",
       "</table>\n",
       "<p>427 rows × 12 columns</p>\n",
       "</div>"
      ],
      "text/plain": [
       "         case_id      continent education_of_employee has_job_experience  \\\n",
       "14        EZYV15           Asia              Master's                  Y   \n",
       "34        EZYV35           Asia              Master's                  N   \n",
       "130      EZYV131  South America           High School                  N   \n",
       "216      EZYV217           Asia              Master's                  Y   \n",
       "221      EZYV222  North America             Doctorate                  Y   \n",
       "...          ...            ...                   ...                ...   \n",
       "25191  EZYV25192           Asia              Master's                  N   \n",
       "25195  EZYV25196  North America              Master's                  Y   \n",
       "25468  EZYV25469           Asia            Bachelor's                  N   \n",
       "25469  EZYV25470  North America              Master's                  Y   \n",
       "25476  EZYV25477           Asia           High School                  Y   \n",
       "\n",
       "      requires_job_training  no_of_employees  yr_of_estab  \\\n",
       "14                        Y            15756         2006   \n",
       "34                        N             1809         2010   \n",
       "130                       N             2554         2005   \n",
       "216                       N             1515         2001   \n",
       "221                       Y             2518         2010   \n",
       "...                     ...              ...          ...   \n",
       "25191                     N             4983         2005   \n",
       "25195                     N               47         2001   \n",
       "25468                     N              373         2005   \n",
       "25469                     N             2261         1997   \n",
       "25476                     N             3274         2006   \n",
       "\n",
       "      region_of_employment  prevailing_wage unit_of_wage full_time_position  \\\n",
       "14                   South        220081.73         Year                  Y   \n",
       "34                   South        225569.73         Year                  N   \n",
       "130                Midwest        247393.01         Year                  Y   \n",
       "216                Midwest        269321.68         Year                  N   \n",
       "221                  South        219529.62         Year                  Y   \n",
       "...                    ...              ...          ...                ...   \n",
       "25191              Midwest        280482.51         Year                  Y   \n",
       "25195                South        234308.77         Year                  N   \n",
       "25468              Midwest        272715.74         Year                  N   \n",
       "25469            Northeast        273772.47         Year                  N   \n",
       "25476            Northeast        279174.79         Year                  Y   \n",
       "\n",
       "      case_status  \n",
       "14      Certified  \n",
       "34      Certified  \n",
       "130     Certified  \n",
       "216     Certified  \n",
       "221     Certified  \n",
       "...           ...  \n",
       "25191      Denied  \n",
       "25195   Certified  \n",
       "25468   Certified  \n",
       "25469   Certified  \n",
       "25476   Certified  \n",
       "\n",
       "[427 rows x 12 columns]"
      ]
     },
     "execution_count": 49,
     "metadata": {},
     "output_type": "execute_result"
    }
   ],
   "source": [
    "#THIS WITH DATAFRAME\n",
    "q1=np.percentile(visa_df['prevailing_wage'],25)\n",
    "q2=np.percentile(visa_df['prevailing_wage'],50)\n",
    "q3=np.percentile(visa_df['prevailing_wage'],75)\n",
    "iqr=q3-q1\n",
    "lower_bound = q1-1.5*iqr\n",
    "upper_bound = q3+1.5*iqr\n",
    "cond1 = visa_df['prevailing_wage'] < lower_bound\n",
    "cond2 = visa_df['prevailing_wage'] > upper_bound\n",
    "outlier_df = visa_df[cond1|cond2]#ouliers datframe with respect to prevailing_wage\n",
    "outlier_df"
   ]
  }
 ],
 "metadata": {
  "kernelspec": {
   "display_name": "new_env",
   "language": "python",
   "name": "python3"
  },
  "language_info": {
   "codemirror_mode": {
    "name": "ipython",
    "version": 3
   },
   "file_extension": ".py",
   "mimetype": "text/x-python",
   "name": "python",
   "nbconvert_exporter": "python",
   "pygments_lexer": "ipython3",
   "version": "3.12.8"
  }
 },
 "nbformat": 4,
 "nbformat_minor": 5
}
