{
 "cells": [
  {
   "cell_type": "code",
   "execution_count": 1,
   "metadata": {},
   "outputs": [],
   "source": [
    "import numpy as np\n",
    "import pandas as pd\n",
    "import matplotlib.pyplot as plt\n",
    "import seaborn as sns\n",
    "from sklearn.preprocessing import OneHotEncoder,LabelEncoder"
   ]
  },
  {
   "cell_type": "code",
   "execution_count": 6,
   "metadata": {},
   "outputs": [
    {
     "data": {
      "text/html": [
       "<div>\n",
       "<style scoped>\n",
       "    .dataframe tbody tr th:only-of-type {\n",
       "        vertical-align: middle;\n",
       "    }\n",
       "\n",
       "    .dataframe tbody tr th {\n",
       "        vertical-align: top;\n",
       "    }\n",
       "\n",
       "    .dataframe thead th {\n",
       "        text-align: right;\n",
       "    }\n",
       "</style>\n",
       "<table border=\"1\" class=\"dataframe\">\n",
       "  <thead>\n",
       "    <tr style=\"text-align: right;\">\n",
       "      <th></th>\n",
       "      <th>case_id</th>\n",
       "      <th>continent</th>\n",
       "      <th>education_of_employee</th>\n",
       "      <th>has_job_experience</th>\n",
       "      <th>requires_job_training</th>\n",
       "      <th>no_of_employees</th>\n",
       "      <th>yr_of_estab</th>\n",
       "      <th>region_of_employment</th>\n",
       "      <th>prevailing_wage</th>\n",
       "      <th>unit_of_wage</th>\n",
       "      <th>full_time_position</th>\n",
       "      <th>case_status</th>\n",
       "    </tr>\n",
       "  </thead>\n",
       "  <tbody>\n",
       "    <tr>\n",
       "      <th>0</th>\n",
       "      <td>EZYV01</td>\n",
       "      <td>Asia</td>\n",
       "      <td>High School</td>\n",
       "      <td>N</td>\n",
       "      <td>N</td>\n",
       "      <td>14513</td>\n",
       "      <td>2007</td>\n",
       "      <td>West</td>\n",
       "      <td>592.2029</td>\n",
       "      <td>Hour</td>\n",
       "      <td>Y</td>\n",
       "      <td>Denied</td>\n",
       "    </tr>\n",
       "    <tr>\n",
       "      <th>1</th>\n",
       "      <td>EZYV02</td>\n",
       "      <td>Asia</td>\n",
       "      <td>Master's</td>\n",
       "      <td>Y</td>\n",
       "      <td>N</td>\n",
       "      <td>2412</td>\n",
       "      <td>2002</td>\n",
       "      <td>Northeast</td>\n",
       "      <td>83425.6500</td>\n",
       "      <td>Year</td>\n",
       "      <td>Y</td>\n",
       "      <td>Certified</td>\n",
       "    </tr>\n",
       "    <tr>\n",
       "      <th>2</th>\n",
       "      <td>EZYV03</td>\n",
       "      <td>Asia</td>\n",
       "      <td>Bachelor's</td>\n",
       "      <td>N</td>\n",
       "      <td>Y</td>\n",
       "      <td>44444</td>\n",
       "      <td>2008</td>\n",
       "      <td>West</td>\n",
       "      <td>122996.8600</td>\n",
       "      <td>Year</td>\n",
       "      <td>Y</td>\n",
       "      <td>Denied</td>\n",
       "    </tr>\n",
       "    <tr>\n",
       "      <th>3</th>\n",
       "      <td>EZYV04</td>\n",
       "      <td>Asia</td>\n",
       "      <td>Bachelor's</td>\n",
       "      <td>N</td>\n",
       "      <td>N</td>\n",
       "      <td>98</td>\n",
       "      <td>1897</td>\n",
       "      <td>West</td>\n",
       "      <td>83434.0300</td>\n",
       "      <td>Year</td>\n",
       "      <td>Y</td>\n",
       "      <td>Denied</td>\n",
       "    </tr>\n",
       "    <tr>\n",
       "      <th>4</th>\n",
       "      <td>EZYV05</td>\n",
       "      <td>Africa</td>\n",
       "      <td>Master's</td>\n",
       "      <td>Y</td>\n",
       "      <td>N</td>\n",
       "      <td>1082</td>\n",
       "      <td>2005</td>\n",
       "      <td>South</td>\n",
       "      <td>149907.3900</td>\n",
       "      <td>Year</td>\n",
       "      <td>Y</td>\n",
       "      <td>Certified</td>\n",
       "    </tr>\n",
       "    <tr>\n",
       "      <th>...</th>\n",
       "      <td>...</td>\n",
       "      <td>...</td>\n",
       "      <td>...</td>\n",
       "      <td>...</td>\n",
       "      <td>...</td>\n",
       "      <td>...</td>\n",
       "      <td>...</td>\n",
       "      <td>...</td>\n",
       "      <td>...</td>\n",
       "      <td>...</td>\n",
       "      <td>...</td>\n",
       "      <td>...</td>\n",
       "    </tr>\n",
       "    <tr>\n",
       "      <th>25475</th>\n",
       "      <td>EZYV25476</td>\n",
       "      <td>Asia</td>\n",
       "      <td>Bachelor's</td>\n",
       "      <td>Y</td>\n",
       "      <td>Y</td>\n",
       "      <td>2601</td>\n",
       "      <td>2008</td>\n",
       "      <td>South</td>\n",
       "      <td>77092.5700</td>\n",
       "      <td>Year</td>\n",
       "      <td>Y</td>\n",
       "      <td>Certified</td>\n",
       "    </tr>\n",
       "    <tr>\n",
       "      <th>25476</th>\n",
       "      <td>EZYV25477</td>\n",
       "      <td>Asia</td>\n",
       "      <td>High School</td>\n",
       "      <td>Y</td>\n",
       "      <td>N</td>\n",
       "      <td>3274</td>\n",
       "      <td>2006</td>\n",
       "      <td>Northeast</td>\n",
       "      <td>279174.7900</td>\n",
       "      <td>Year</td>\n",
       "      <td>Y</td>\n",
       "      <td>Certified</td>\n",
       "    </tr>\n",
       "    <tr>\n",
       "      <th>25477</th>\n",
       "      <td>EZYV25478</td>\n",
       "      <td>Asia</td>\n",
       "      <td>Master's</td>\n",
       "      <td>Y</td>\n",
       "      <td>N</td>\n",
       "      <td>1121</td>\n",
       "      <td>1910</td>\n",
       "      <td>South</td>\n",
       "      <td>146298.8500</td>\n",
       "      <td>Year</td>\n",
       "      <td>N</td>\n",
       "      <td>Certified</td>\n",
       "    </tr>\n",
       "    <tr>\n",
       "      <th>25478</th>\n",
       "      <td>EZYV25479</td>\n",
       "      <td>Asia</td>\n",
       "      <td>Master's</td>\n",
       "      <td>Y</td>\n",
       "      <td>Y</td>\n",
       "      <td>1918</td>\n",
       "      <td>1887</td>\n",
       "      <td>West</td>\n",
       "      <td>86154.7700</td>\n",
       "      <td>Year</td>\n",
       "      <td>Y</td>\n",
       "      <td>Certified</td>\n",
       "    </tr>\n",
       "    <tr>\n",
       "      <th>25479</th>\n",
       "      <td>EZYV25480</td>\n",
       "      <td>Asia</td>\n",
       "      <td>Bachelor's</td>\n",
       "      <td>Y</td>\n",
       "      <td>N</td>\n",
       "      <td>3195</td>\n",
       "      <td>1960</td>\n",
       "      <td>Midwest</td>\n",
       "      <td>70876.9100</td>\n",
       "      <td>Year</td>\n",
       "      <td>Y</td>\n",
       "      <td>Certified</td>\n",
       "    </tr>\n",
       "  </tbody>\n",
       "</table>\n",
       "<p>25480 rows × 12 columns</p>\n",
       "</div>"
      ],
      "text/plain": [
       "         case_id continent education_of_employee has_job_experience  \\\n",
       "0         EZYV01      Asia           High School                  N   \n",
       "1         EZYV02      Asia              Master's                  Y   \n",
       "2         EZYV03      Asia            Bachelor's                  N   \n",
       "3         EZYV04      Asia            Bachelor's                  N   \n",
       "4         EZYV05    Africa              Master's                  Y   \n",
       "...          ...       ...                   ...                ...   \n",
       "25475  EZYV25476      Asia            Bachelor's                  Y   \n",
       "25476  EZYV25477      Asia           High School                  Y   \n",
       "25477  EZYV25478      Asia              Master's                  Y   \n",
       "25478  EZYV25479      Asia              Master's                  Y   \n",
       "25479  EZYV25480      Asia            Bachelor's                  Y   \n",
       "\n",
       "      requires_job_training  no_of_employees  yr_of_estab  \\\n",
       "0                         N            14513         2007   \n",
       "1                         N             2412         2002   \n",
       "2                         Y            44444         2008   \n",
       "3                         N               98         1897   \n",
       "4                         N             1082         2005   \n",
       "...                     ...              ...          ...   \n",
       "25475                     Y             2601         2008   \n",
       "25476                     N             3274         2006   \n",
       "25477                     N             1121         1910   \n",
       "25478                     Y             1918         1887   \n",
       "25479                     N             3195         1960   \n",
       "\n",
       "      region_of_employment  prevailing_wage unit_of_wage full_time_position  \\\n",
       "0                     West         592.2029         Hour                  Y   \n",
       "1                Northeast       83425.6500         Year                  Y   \n",
       "2                     West      122996.8600         Year                  Y   \n",
       "3                     West       83434.0300         Year                  Y   \n",
       "4                    South      149907.3900         Year                  Y   \n",
       "...                    ...              ...          ...                ...   \n",
       "25475                South       77092.5700         Year                  Y   \n",
       "25476            Northeast      279174.7900         Year                  Y   \n",
       "25477                South      146298.8500         Year                  N   \n",
       "25478                 West       86154.7700         Year                  Y   \n",
       "25479              Midwest       70876.9100         Year                  Y   \n",
       "\n",
       "      case_status  \n",
       "0          Denied  \n",
       "1       Certified  \n",
       "2          Denied  \n",
       "3          Denied  \n",
       "4       Certified  \n",
       "...           ...  \n",
       "25475   Certified  \n",
       "25476   Certified  \n",
       "25477   Certified  \n",
       "25478   Certified  \n",
       "25479   Certified  \n",
       "\n",
       "[25480 rows x 12 columns]"
      ]
     },
     "execution_count": 6,
     "metadata": {},
     "output_type": "execute_result"
    }
   ],
   "source": [
    "file_path = r'C:\\Users\\LENOVO\\Documents\\Data_Science\\Naresh_it\\Data Science\\Batch october\\datasets\\omkar_sir_datasets\\Visadataset.csv'\n",
    "df = pd.read_csv(file_path)\n",
    "df"
   ]
  },
  {
   "cell_type": "code",
   "execution_count": 4,
   "metadata": {},
   "outputs": [
    {
     "data": {
      "text/plain": [
       "False"
      ]
     },
     "execution_count": 4,
     "metadata": {},
     "output_type": "execute_result"
    }
   ],
   "source": [
    "df.empty"
   ]
  },
  {
   "cell_type": "code",
   "execution_count": 7,
   "metadata": {},
   "outputs": [
    {
     "data": {
      "text/plain": [
       "Index(['case_id', 'continent', 'education_of_employee', 'has_job_experience',\n",
       "       'requires_job_training', 'no_of_employees', 'yr_of_estab',\n",
       "       'region_of_employment', 'prevailing_wage', 'unit_of_wage',\n",
       "       'full_time_position', 'case_status'],\n",
       "      dtype='object')"
      ]
     },
     "execution_count": 7,
     "metadata": {},
     "output_type": "execute_result"
    }
   ],
   "source": [
    "df.columns"
   ]
  },
  {
   "cell_type": "code",
   "execution_count": 8,
   "metadata": {},
   "outputs": [
    {
     "data": {
      "text/plain": [
       "Index(['case_id', 'continent', 'education_of_employee', 'has_job_experience',\n",
       "       'requires_job_training', 'no_of_employees', 'yr_of_estab',\n",
       "       'region_of_employment', 'prevailing_wage', 'unit_of_wage',\n",
       "       'full_time_position', 'case_status'],\n",
       "      dtype='object')"
      ]
     },
     "execution_count": 8,
     "metadata": {},
     "output_type": "execute_result"
    }
   ],
   "source": [
    "df.keys()"
   ]
  },
  {
   "cell_type": "code",
   "execution_count": 9,
   "metadata": {},
   "outputs": [
    {
     "data": {
      "text/plain": [
       "RangeIndex(start=0, stop=25480, step=1)"
      ]
     },
     "execution_count": 9,
     "metadata": {},
     "output_type": "execute_result"
    }
   ],
   "source": [
    "df.index"
   ]
  },
  {
   "cell_type": "code",
   "execution_count": 10,
   "metadata": {},
   "outputs": [
    {
     "data": {
      "text/plain": [
       "0           592.2029\n",
       "1         83425.6500\n",
       "2        122996.8600\n",
       "3         83434.0300\n",
       "4        149907.3900\n",
       "            ...     \n",
       "25475     77092.5700\n",
       "25476    279174.7900\n",
       "25477    146298.8500\n",
       "25478     86154.7700\n",
       "25479     70876.9100\n",
       "Name: prevailing_wage, Length: 25480, dtype: float64"
      ]
     },
     "execution_count": 10,
     "metadata": {},
     "output_type": "execute_result"
    }
   ],
   "source": [
    "df['prevailing_wage'] #this is Series"
   ]
  },
  {
   "cell_type": "code",
   "execution_count": 11,
   "metadata": {},
   "outputs": [
    {
     "data": {
      "text/html": [
       "<div>\n",
       "<style scoped>\n",
       "    .dataframe tbody tr th:only-of-type {\n",
       "        vertical-align: middle;\n",
       "    }\n",
       "\n",
       "    .dataframe tbody tr th {\n",
       "        vertical-align: top;\n",
       "    }\n",
       "\n",
       "    .dataframe thead th {\n",
       "        text-align: right;\n",
       "    }\n",
       "</style>\n",
       "<table border=\"1\" class=\"dataframe\">\n",
       "  <thead>\n",
       "    <tr style=\"text-align: right;\">\n",
       "      <th></th>\n",
       "      <th>prevailing_wage</th>\n",
       "    </tr>\n",
       "  </thead>\n",
       "  <tbody>\n",
       "    <tr>\n",
       "      <th>0</th>\n",
       "      <td>592.2029</td>\n",
       "    </tr>\n",
       "    <tr>\n",
       "      <th>1</th>\n",
       "      <td>83425.6500</td>\n",
       "    </tr>\n",
       "    <tr>\n",
       "      <th>2</th>\n",
       "      <td>122996.8600</td>\n",
       "    </tr>\n",
       "    <tr>\n",
       "      <th>3</th>\n",
       "      <td>83434.0300</td>\n",
       "    </tr>\n",
       "    <tr>\n",
       "      <th>4</th>\n",
       "      <td>149907.3900</td>\n",
       "    </tr>\n",
       "    <tr>\n",
       "      <th>...</th>\n",
       "      <td>...</td>\n",
       "    </tr>\n",
       "    <tr>\n",
       "      <th>25475</th>\n",
       "      <td>77092.5700</td>\n",
       "    </tr>\n",
       "    <tr>\n",
       "      <th>25476</th>\n",
       "      <td>279174.7900</td>\n",
       "    </tr>\n",
       "    <tr>\n",
       "      <th>25477</th>\n",
       "      <td>146298.8500</td>\n",
       "    </tr>\n",
       "    <tr>\n",
       "      <th>25478</th>\n",
       "      <td>86154.7700</td>\n",
       "    </tr>\n",
       "    <tr>\n",
       "      <th>25479</th>\n",
       "      <td>70876.9100</td>\n",
       "    </tr>\n",
       "  </tbody>\n",
       "</table>\n",
       "<p>25480 rows × 1 columns</p>\n",
       "</div>"
      ],
      "text/plain": [
       "       prevailing_wage\n",
       "0             592.2029\n",
       "1           83425.6500\n",
       "2          122996.8600\n",
       "3           83434.0300\n",
       "4          149907.3900\n",
       "...                ...\n",
       "25475       77092.5700\n",
       "25476      279174.7900\n",
       "25477      146298.8500\n",
       "25478       86154.7700\n",
       "25479       70876.9100\n",
       "\n",
       "[25480 rows x 1 columns]"
      ]
     },
     "execution_count": 11,
     "metadata": {},
     "output_type": "execute_result"
    }
   ],
   "source": [
    "df[['prevailing_wage']] #this is Dataframe"
   ]
  },
  {
   "cell_type": "code",
   "execution_count": 8,
   "metadata": {},
   "outputs": [
    {
     "data": {
      "text/plain": [
       "0           592.2029\n",
       "1         83425.6500\n",
       "2        122996.8600\n",
       "3         83434.0300\n",
       "4        149907.3900\n",
       "            ...     \n",
       "25475     77092.5700\n",
       "25476    279174.7900\n",
       "25477    146298.8500\n",
       "25478     86154.7700\n",
       "25479     70876.9100\n",
       "Name: prevailing_wage, Length: 25480, dtype: float64"
      ]
     },
     "execution_count": 8,
     "metadata": {},
     "output_type": "execute_result"
    }
   ],
   "source": [
    "df.prevailing_wage #this is Series"
   ]
  },
  {
   "cell_type": "code",
   "execution_count": 12,
   "metadata": {},
   "outputs": [
    {
     "data": {
      "text/plain": [
       "0"
      ]
     },
     "execution_count": 12,
     "metadata": {},
     "output_type": "execute_result"
    }
   ],
   "source": [
    "df['prevailing_wage'].isna().sum() #there is no null value"
   ]
  },
  {
   "cell_type": "code",
   "execution_count": 14,
   "metadata": {},
   "outputs": [
    {
     "data": {
      "text/plain": [
       "RangeIndex(start=0, stop=25480, step=1)"
      ]
     },
     "execution_count": 14,
     "metadata": {},
     "output_type": "execute_result"
    }
   ],
   "source": [
    "df['prevailing_wage'].keys()"
   ]
  },
  {
   "cell_type": "code",
   "execution_count": 6,
   "metadata": {},
   "outputs": [
    {
     "data": {
      "text/plain": [
       "25480"
      ]
     },
     "execution_count": 6,
     "metadata": {},
     "output_type": "execute_result"
    }
   ],
   "source": [
    "len(df['prevailing_wage'].values)"
   ]
  },
  {
   "cell_type": "code",
   "execution_count": 11,
   "metadata": {},
   "outputs": [
    {
     "data": {
      "text/plain": [
       "25454"
      ]
     },
     "execution_count": 11,
     "metadata": {},
     "output_type": "execute_result"
    }
   ],
   "source": [
    "len(df['prevailing_wage'].unique())"
   ]
  },
  {
   "cell_type": "code",
   "execution_count": 15,
   "metadata": {},
   "outputs": [
    {
     "data": {
      "text/plain": [
       "(25480, 12)"
      ]
     },
     "execution_count": 15,
     "metadata": {},
     "output_type": "execute_result"
    }
   ],
   "source": [
    "df.shape"
   ]
  },
  {
   "cell_type": "markdown",
   "metadata": {},
   "source": [
    "- Now we have to find out \n",
    "    - count\n",
    "    - min\n",
    "    - max\n",
    "    - mean\n",
    "    - median\n",
    "    - standard deviation"
   ]
  },
  {
   "cell_type": "markdown",
   "metadata": {},
   "source": [
    "Never allow Value_counts() to numerical column"
   ]
  },
  {
   "cell_type": "code",
   "execution_count": 19,
   "metadata": {},
   "outputs": [
    {
     "name": "stdout",
     "output_type": "stream",
     "text": [
      "25480 2.1367 319210.27 74455.81459209183 70308.20999999999 52815.94232687357\n"
     ]
    }
   ],
   "source": [
    "wage_count = df['prevailing_wage'].count()            \n",
    "wage_min = df['prevailing_wage'].min()\n",
    "wage_max = df['prevailing_wage'].max()\n",
    "wage_mean = df['prevailing_wage'].mean()\n",
    "wage_median = df['prevailing_wage'].median()\n",
    "wage_std = df['prevailing_wage'].std()\n",
    "print(wage_count,wage_min,wage_max,wage_mean,wage_median,wage_std)"
   ]
  },
  {
   "cell_type": "markdown",
   "metadata": {},
   "source": [
    "Now Create a Dataframe,using Dictionary"
   ]
  },
  {
   "cell_type": "code",
   "execution_count": 12,
   "metadata": {},
   "outputs": [
    {
     "data": {
      "text/plain": [
       "{'count': 25480,\n",
       " 'min': 2.14,\n",
       " 'max': 319210.27,\n",
       " 'mean': 74455.81,\n",
       " 'median': 70308.21,\n",
       " 'std': 52815.94}"
      ]
     },
     "execution_count": 12,
     "metadata": {},
     "output_type": "execute_result"
    }
   ],
   "source": [
    "dict1 = {}\n",
    "wage_count = round(df['prevailing_wage'].count(),2)            \n",
    "wage_min = round(df['prevailing_wage'].min(),2)\n",
    "wage_max = round(df['prevailing_wage'].max(),2)\n",
    "wage_mean = round(df['prevailing_wage'].mean(),2)\n",
    "wage_median = round(df['prevailing_wage'].median(),2)\n",
    "wage_std = round(df['prevailing_wage'].std(),2)\n",
    "dict1['count'] =  wage_count\n",
    "dict1['min'] = wage_min\n",
    "dict1['max'] = wage_max\n",
    "dict1['mean'] = wage_mean\n",
    "dict1['median'] = wage_median\n",
    "dict1['std'] = wage_std\n",
    "dict1\n"
   ]
  },
  {
   "cell_type": "code",
   "execution_count": 16,
   "metadata": {},
   "outputs": [
    {
     "data": {
      "text/html": [
       "<div>\n",
       "<style scoped>\n",
       "    .dataframe tbody tr th:only-of-type {\n",
       "        vertical-align: middle;\n",
       "    }\n",
       "\n",
       "    .dataframe tbody tr th {\n",
       "        vertical-align: top;\n",
       "    }\n",
       "\n",
       "    .dataframe thead th {\n",
       "        text-align: right;\n",
       "    }\n",
       "</style>\n",
       "<table border=\"1\" class=\"dataframe\">\n",
       "  <thead>\n",
       "    <tr style=\"text-align: right;\">\n",
       "      <th></th>\n",
       "      <th>count</th>\n",
       "      <th>min</th>\n",
       "      <th>max</th>\n",
       "      <th>mean</th>\n",
       "      <th>median</th>\n",
       "      <th>std</th>\n",
       "    </tr>\n",
       "  </thead>\n",
       "  <tbody>\n",
       "    <tr>\n",
       "      <th>prevailing_wage</th>\n",
       "      <td>25480</td>\n",
       "      <td>2.14</td>\n",
       "      <td>319210.27</td>\n",
       "      <td>74455.81</td>\n",
       "      <td>70308.21</td>\n",
       "      <td>52815.94</td>\n",
       "    </tr>\n",
       "  </tbody>\n",
       "</table>\n",
       "</div>"
      ],
      "text/plain": [
       "                 count   min        max      mean    median       std\n",
       "prevailing_wage  25480  2.14  319210.27  74455.81  70308.21  52815.94"
      ]
     },
     "execution_count": 16,
     "metadata": {},
     "output_type": "execute_result"
    }
   ],
   "source": [
    "pd.DataFrame(dict1,index=['prevailing_wage'])"
   ]
  },
  {
   "cell_type": "markdown",
   "metadata": {},
   "source": [
    "Now Create a Dataframe,using List"
   ]
  },
  {
   "cell_type": "code",
   "execution_count": 17,
   "metadata": {},
   "outputs": [
    {
     "data": {
      "text/plain": [
       "[25480, 2.14, 319210.27, 74455.81, 70308.21, 52815.94]"
      ]
     },
     "execution_count": 17,
     "metadata": {},
     "output_type": "execute_result"
    }
   ],
   "source": [
    "wage_count = round(df['prevailing_wage'].count(),2)            \n",
    "wage_min = round(df['prevailing_wage'].min(),2)\n",
    "wage_max = round(df['prevailing_wage'].max(),2)\n",
    "wage_mean = round(df['prevailing_wage'].mean(),2)\n",
    "wage_median = round(df['prevailing_wage'].median(),2)\n",
    "wage_std = round(df['prevailing_wage'].std(),2)\n",
    "list1 = [wage_count,wage_min,wage_max,wage_mean,wage_median,wage_std]\n",
    "list1"
   ]
  },
  {
   "cell_type": "code",
   "execution_count": 19,
   "metadata": {},
   "outputs": [
    {
     "data": {
      "text/html": [
       "<div>\n",
       "<style scoped>\n",
       "    .dataframe tbody tr th:only-of-type {\n",
       "        vertical-align: middle;\n",
       "    }\n",
       "\n",
       "    .dataframe tbody tr th {\n",
       "        vertical-align: top;\n",
       "    }\n",
       "\n",
       "    .dataframe thead th {\n",
       "        text-align: right;\n",
       "    }\n",
       "</style>\n",
       "<table border=\"1\" class=\"dataframe\">\n",
       "  <thead>\n",
       "    <tr style=\"text-align: right;\">\n",
       "      <th></th>\n",
       "      <th>prevailing_wage</th>\n",
       "    </tr>\n",
       "  </thead>\n",
       "  <tbody>\n",
       "    <tr>\n",
       "      <th>count</th>\n",
       "      <td>25480.00</td>\n",
       "    </tr>\n",
       "    <tr>\n",
       "      <th>min</th>\n",
       "      <td>2.14</td>\n",
       "    </tr>\n",
       "    <tr>\n",
       "      <th>max</th>\n",
       "      <td>319210.27</td>\n",
       "    </tr>\n",
       "    <tr>\n",
       "      <th>mean</th>\n",
       "      <td>74455.81</td>\n",
       "    </tr>\n",
       "    <tr>\n",
       "      <th>median</th>\n",
       "      <td>70308.21</td>\n",
       "    </tr>\n",
       "    <tr>\n",
       "      <th>std</th>\n",
       "      <td>52815.94</td>\n",
       "    </tr>\n",
       "  </tbody>\n",
       "</table>\n",
       "</div>"
      ],
      "text/plain": [
       "        prevailing_wage\n",
       "count          25480.00\n",
       "min                2.14\n",
       "max           319210.27\n",
       "mean           74455.81\n",
       "median         70308.21\n",
       "std            52815.94"
      ]
     },
     "execution_count": 19,
     "metadata": {},
     "output_type": "execute_result"
    }
   ],
   "source": [
    "pd.DataFrame(list1,index=['count','min','max','mean','median','std'],columns=['prevailing_wage'])"
   ]
  },
  {
   "cell_type": "markdown",
   "metadata": {},
   "source": [
    "Now Direct Create a DataFrame using dictionary and list"
   ]
  },
  {
   "cell_type": "code",
   "execution_count": 20,
   "metadata": {},
   "outputs": [
    {
     "data": {
      "text/html": [
       "<div>\n",
       "<style scoped>\n",
       "    .dataframe tbody tr th:only-of-type {\n",
       "        vertical-align: middle;\n",
       "    }\n",
       "\n",
       "    .dataframe tbody tr th {\n",
       "        vertical-align: top;\n",
       "    }\n",
       "\n",
       "    .dataframe thead th {\n",
       "        text-align: right;\n",
       "    }\n",
       "</style>\n",
       "<table border=\"1\" class=\"dataframe\">\n",
       "  <thead>\n",
       "    <tr style=\"text-align: right;\">\n",
       "      <th></th>\n",
       "      <th>prevailing_wage</th>\n",
       "    </tr>\n",
       "  </thead>\n",
       "  <tbody>\n",
       "    <tr>\n",
       "      <th>count</th>\n",
       "      <td>25480.00</td>\n",
       "    </tr>\n",
       "    <tr>\n",
       "      <th>min</th>\n",
       "      <td>2.14</td>\n",
       "    </tr>\n",
       "    <tr>\n",
       "      <th>max</th>\n",
       "      <td>319210.27</td>\n",
       "    </tr>\n",
       "    <tr>\n",
       "      <th>mean</th>\n",
       "      <td>74455.81</td>\n",
       "    </tr>\n",
       "    <tr>\n",
       "      <th>median</th>\n",
       "      <td>70308.21</td>\n",
       "    </tr>\n",
       "    <tr>\n",
       "      <th>std</th>\n",
       "      <td>52815.94</td>\n",
       "    </tr>\n",
       "  </tbody>\n",
       "</table>\n",
       "</div>"
      ],
      "text/plain": [
       "        prevailing_wage\n",
       "count          25480.00\n",
       "min                2.14\n",
       "max           319210.27\n",
       "mean           74455.81\n",
       "median         70308.21\n",
       "std            52815.94"
      ]
     },
     "execution_count": 20,
     "metadata": {},
     "output_type": "execute_result"
    }
   ],
   "source": [
    "dict2 = {}\n",
    "dict2['prevailing_wage'] = list1\n",
    "pd.DataFrame(dict2,index=['count','min','max','mean','median','std'])"
   ]
  },
  {
   "cell_type": "code",
   "execution_count": 38,
   "metadata": {},
   "outputs": [
    {
     "data": {
      "text/plain": [
       "case_id                   object\n",
       "continent                 object\n",
       "education_of_employee     object\n",
       "has_job_experience        object\n",
       "requires_job_training     object\n",
       "no_of_employees            int64\n",
       "yr_of_estab                int64\n",
       "region_of_employment      object\n",
       "prevailing_wage          float64\n",
       "unit_of_wage              object\n",
       "full_time_position        object\n",
       "case_status               object\n",
       "dtype: object"
      ]
     },
     "execution_count": 38,
     "metadata": {},
     "output_type": "execute_result"
    }
   ],
   "source": [
    "df.dtypes"
   ]
  },
  {
   "cell_type": "markdown",
   "metadata": {},
   "source": [
    "Now Find all numerical Column"
   ]
  },
  {
   "cell_type": "code",
   "execution_count": 21,
   "metadata": {},
   "outputs": [
    {
     "name": "stdout",
     "output_type": "stream",
     "text": [
      "['no_of_employees', 'yr_of_estab', 'prevailing_wage']\n"
     ]
    }
   ],
   "source": [
    "numerical_col = []\n",
    "var = df.dtypes.to_dict()\n",
    "for k in var:\n",
    "    if var[k] != 'O':\n",
    "        numerical_col.append(k)\n",
    "print(numerical_col)"
   ]
  },
  {
   "cell_type": "code",
   "execution_count": 26,
   "metadata": {},
   "outputs": [
    {
     "name": "stdout",
     "output_type": "stream",
     "text": [
      "{'no_of_employees': [25480, -26, 602069, 5667.04, 2109.0, 22877.93], 'yr_of_estab': [25480, 1800, 2016, 1979.41, 1997.0, 42.37], 'prevailing_wage': [25480, 2.14, 319210.27, 74455.81, 70308.21, 52815.94]}\n"
     ]
    },
    {
     "data": {
      "text/html": [
       "<div>\n",
       "<style scoped>\n",
       "    .dataframe tbody tr th:only-of-type {\n",
       "        vertical-align: middle;\n",
       "    }\n",
       "\n",
       "    .dataframe tbody tr th {\n",
       "        vertical-align: top;\n",
       "    }\n",
       "\n",
       "    .dataframe thead th {\n",
       "        text-align: right;\n",
       "    }\n",
       "</style>\n",
       "<table border=\"1\" class=\"dataframe\">\n",
       "  <thead>\n",
       "    <tr style=\"text-align: right;\">\n",
       "      <th></th>\n",
       "      <th>no_of_employees</th>\n",
       "      <th>yr_of_estab</th>\n",
       "      <th>prevailing_wage</th>\n",
       "    </tr>\n",
       "  </thead>\n",
       "  <tbody>\n",
       "    <tr>\n",
       "      <th>count</th>\n",
       "      <td>25480.00</td>\n",
       "      <td>25480.00</td>\n",
       "      <td>25480.00</td>\n",
       "    </tr>\n",
       "    <tr>\n",
       "      <th>min</th>\n",
       "      <td>-26.00</td>\n",
       "      <td>1800.00</td>\n",
       "      <td>2.14</td>\n",
       "    </tr>\n",
       "    <tr>\n",
       "      <th>max</th>\n",
       "      <td>602069.00</td>\n",
       "      <td>2016.00</td>\n",
       "      <td>319210.27</td>\n",
       "    </tr>\n",
       "    <tr>\n",
       "      <th>mean</th>\n",
       "      <td>5667.04</td>\n",
       "      <td>1979.41</td>\n",
       "      <td>74455.81</td>\n",
       "    </tr>\n",
       "    <tr>\n",
       "      <th>median</th>\n",
       "      <td>2109.00</td>\n",
       "      <td>1997.00</td>\n",
       "      <td>70308.21</td>\n",
       "    </tr>\n",
       "    <tr>\n",
       "      <th>std</th>\n",
       "      <td>22877.93</td>\n",
       "      <td>42.37</td>\n",
       "      <td>52815.94</td>\n",
       "    </tr>\n",
       "  </tbody>\n",
       "</table>\n",
       "</div>"
      ],
      "text/plain": [
       "        no_of_employees  yr_of_estab  prevailing_wage\n",
       "count          25480.00     25480.00         25480.00\n",
       "min              -26.00      1800.00             2.14\n",
       "max           602069.00      2016.00        319210.27\n",
       "mean            5667.04      1979.41         74455.81\n",
       "median          2109.00      1997.00         70308.21\n",
       "std            22877.93        42.37         52815.94"
      ]
     },
     "execution_count": 26,
     "metadata": {},
     "output_type": "execute_result"
    }
   ],
   "source": [
    "dict3 = {}\n",
    "for i in numerical_col:\n",
    "    COUNT = round(df[i].count(),2)\n",
    "    MIN = round(df[i].min(),2)\n",
    "    MAX = round(df[i].max(),2)\n",
    "    MEAN = round(df[i].mean(),2)\n",
    "    MEDIAN = round(df[i].median(),2)\n",
    "    STD = round(df[i].std(),2)\n",
    "    list2 = [COUNT,MIN,MAX,MEAN,MEDIAN,STD]\n",
    "    dict3[i] = list2\n",
    "    # print(pd.DataFrame(list2,index = ['count','min','max','mean','median','std'],columns=[i]))\n",
    "    # print(''.center(50,'-'))\n",
    "numerical_df = pd.DataFrame(dict3,index = ['count','min','max','mean','median','std'])\n",
    "print(dict3)\n",
    "numerical_df\n"
   ]
  },
  {
   "cell_type": "markdown",
   "metadata": {},
   "source": [
    "But You can do directly by using describe()"
   ]
  },
  {
   "cell_type": "code",
   "execution_count": 121,
   "metadata": {},
   "outputs": [
    {
     "data": {
      "text/html": [
       "<div>\n",
       "<style scoped>\n",
       "    .dataframe tbody tr th:only-of-type {\n",
       "        vertical-align: middle;\n",
       "    }\n",
       "\n",
       "    .dataframe tbody tr th {\n",
       "        vertical-align: top;\n",
       "    }\n",
       "\n",
       "    .dataframe thead th {\n",
       "        text-align: right;\n",
       "    }\n",
       "</style>\n",
       "<table border=\"1\" class=\"dataframe\">\n",
       "  <thead>\n",
       "    <tr style=\"text-align: right;\">\n",
       "      <th></th>\n",
       "      <th>no_of_employees</th>\n",
       "      <th>yr_of_estab</th>\n",
       "      <th>prevailing_wage</th>\n",
       "    </tr>\n",
       "  </thead>\n",
       "  <tbody>\n",
       "    <tr>\n",
       "      <th>count</th>\n",
       "      <td>25480.000000</td>\n",
       "      <td>25480.000000</td>\n",
       "      <td>25480.000000</td>\n",
       "    </tr>\n",
       "    <tr>\n",
       "      <th>mean</th>\n",
       "      <td>5667.043210</td>\n",
       "      <td>1979.409929</td>\n",
       "      <td>74455.814592</td>\n",
       "    </tr>\n",
       "    <tr>\n",
       "      <th>std</th>\n",
       "      <td>22877.928848</td>\n",
       "      <td>42.366929</td>\n",
       "      <td>52815.942327</td>\n",
       "    </tr>\n",
       "    <tr>\n",
       "      <th>min</th>\n",
       "      <td>-26.000000</td>\n",
       "      <td>1800.000000</td>\n",
       "      <td>2.136700</td>\n",
       "    </tr>\n",
       "    <tr>\n",
       "      <th>25%</th>\n",
       "      <td>1022.000000</td>\n",
       "      <td>1976.000000</td>\n",
       "      <td>34015.480000</td>\n",
       "    </tr>\n",
       "    <tr>\n",
       "      <th>50%</th>\n",
       "      <td>2109.000000</td>\n",
       "      <td>1997.000000</td>\n",
       "      <td>70308.210000</td>\n",
       "    </tr>\n",
       "    <tr>\n",
       "      <th>75%</th>\n",
       "      <td>3504.000000</td>\n",
       "      <td>2005.000000</td>\n",
       "      <td>107735.512500</td>\n",
       "    </tr>\n",
       "    <tr>\n",
       "      <th>max</th>\n",
       "      <td>602069.000000</td>\n",
       "      <td>2016.000000</td>\n",
       "      <td>319210.270000</td>\n",
       "    </tr>\n",
       "  </tbody>\n",
       "</table>\n",
       "</div>"
      ],
      "text/plain": [
       "       no_of_employees   yr_of_estab  prevailing_wage\n",
       "count     25480.000000  25480.000000     25480.000000\n",
       "mean       5667.043210   1979.409929     74455.814592\n",
       "std       22877.928848     42.366929     52815.942327\n",
       "min         -26.000000   1800.000000         2.136700\n",
       "25%        1022.000000   1976.000000     34015.480000\n",
       "50%        2109.000000   1997.000000     70308.210000\n",
       "75%        3504.000000   2005.000000    107735.512500\n",
       "max      602069.000000   2016.000000    319210.270000"
      ]
     },
     "execution_count": 121,
     "metadata": {},
     "output_type": "execute_result"
    }
   ],
   "source": [
    "df.describe()"
   ]
  },
  {
   "cell_type": "markdown",
   "metadata": {},
   "source": [
    "YOU CAN USE NUMPY FUNCTION ALSO"
   ]
  },
  {
   "cell_type": "code",
   "execution_count": null,
   "metadata": {},
   "outputs": [
    {
     "name": "stdout",
     "output_type": "stream",
     "text": [
      "2.1367\n",
      "319210.27\n",
      "74455.81459209183\n",
      "70308.20999999999\n",
      "52814.90589711402\n",
      "25480\n"
     ]
    }
   ],
   "source": [
    "print(np.min(df['prevailing_wage']))\n",
    "print(np.max(df['prevailing_wage']))\n",
    "print(np.mean(df['prevailing_wage']))\n",
    "print(np.median(df['prevailing_wage']))\n",
    "print(np.std(df['prevailing_wage']))\n",
    "print(np.size(df['prevailing_wage']))#here coun is not available,we will use size"
   ]
  },
  {
   "cell_type": "markdown",
   "metadata": {},
   "source": [
    "Now Percentile and quantile\n",
    "- percentile ranges from 1 to 100\n",
    "- np.percentile(data,<direct number between 1 to 100>)\n",
    "- ex- np.percentile(data,25)\n",
    "- np.quantile(data,decimal number)\n",
    "- ex- np.quantile(data,0.25)"
   ]
  },
  {
   "cell_type": "code",
   "execution_count": 146,
   "metadata": {},
   "outputs": [
    {
     "name": "stdout",
     "output_type": "stream",
     "text": [
      "percentile --> 34015.48 70308.21 107735.51\n"
     ]
    }
   ],
   "source": [
    "q1 = round(np.percentile(df['prevailing_wage'],25),2)\n",
    "q2 = round(np.percentile(df['prevailing_wage'],50),2)\n",
    "q3 = round(np.percentile(df['prevailing_wage'],75),2)\n",
    "print('percentile -->',q1,q2,q3)"
   ]
  },
  {
   "cell_type": "code",
   "execution_count": 147,
   "metadata": {},
   "outputs": [
    {
     "name": "stdout",
     "output_type": "stream",
     "text": [
      "quantile --> 34015.48 70308.21 107735.51\n"
     ]
    }
   ],
   "source": [
    "q1 = round(np.quantile(df['prevailing_wage'],0.25),2)\n",
    "q2 = round(np.quantile(df['prevailing_wage'],0.50),2)\n",
    "q3 = round(np.quantile(df['prevailing_wage'],0.75),2)\n",
    "print('quantile -->',q1,q2,q3)"
   ]
  },
  {
   "cell_type": "code",
   "execution_count": 150,
   "metadata": {},
   "outputs": [
    {
     "name": "stdout",
     "output_type": "stream",
     "text": [
      "{'no_of_employees': [25480, -26, 602069, 5667.04, 2109.0, 22877.93, 1022.0, 2109.0, 3504.0], 'yr_of_estab': [25480, 1800, 2016, 1979.41, 1997.0, 42.37, 1976.0, 1997.0, 2005.0], 'prevailing_wage': [25480, 2.14, 319210.27, 74455.81, 70308.21, 52815.94, 34015.48, 70308.21, 107735.51]}\n"
     ]
    },
    {
     "data": {
      "text/html": [
       "<div>\n",
       "<style scoped>\n",
       "    .dataframe tbody tr th:only-of-type {\n",
       "        vertical-align: middle;\n",
       "    }\n",
       "\n",
       "    .dataframe tbody tr th {\n",
       "        vertical-align: top;\n",
       "    }\n",
       "\n",
       "    .dataframe thead th {\n",
       "        text-align: right;\n",
       "    }\n",
       "</style>\n",
       "<table border=\"1\" class=\"dataframe\">\n",
       "  <thead>\n",
       "    <tr style=\"text-align: right;\">\n",
       "      <th></th>\n",
       "      <th>no_of_employees</th>\n",
       "      <th>yr_of_estab</th>\n",
       "      <th>prevailing_wage</th>\n",
       "    </tr>\n",
       "  </thead>\n",
       "  <tbody>\n",
       "    <tr>\n",
       "      <th>count</th>\n",
       "      <td>25480.00</td>\n",
       "      <td>25480.00</td>\n",
       "      <td>25480.00</td>\n",
       "    </tr>\n",
       "    <tr>\n",
       "      <th>min</th>\n",
       "      <td>-26.00</td>\n",
       "      <td>1800.00</td>\n",
       "      <td>2.14</td>\n",
       "    </tr>\n",
       "    <tr>\n",
       "      <th>max</th>\n",
       "      <td>602069.00</td>\n",
       "      <td>2016.00</td>\n",
       "      <td>319210.27</td>\n",
       "    </tr>\n",
       "    <tr>\n",
       "      <th>mean</th>\n",
       "      <td>5667.04</td>\n",
       "      <td>1979.41</td>\n",
       "      <td>74455.81</td>\n",
       "    </tr>\n",
       "    <tr>\n",
       "      <th>median</th>\n",
       "      <td>2109.00</td>\n",
       "      <td>1997.00</td>\n",
       "      <td>70308.21</td>\n",
       "    </tr>\n",
       "    <tr>\n",
       "      <th>std</th>\n",
       "      <td>22877.93</td>\n",
       "      <td>42.37</td>\n",
       "      <td>52815.94</td>\n",
       "    </tr>\n",
       "    <tr>\n",
       "      <th>25%</th>\n",
       "      <td>1022.00</td>\n",
       "      <td>1976.00</td>\n",
       "      <td>34015.48</td>\n",
       "    </tr>\n",
       "    <tr>\n",
       "      <th>50%</th>\n",
       "      <td>2109.00</td>\n",
       "      <td>1997.00</td>\n",
       "      <td>70308.21</td>\n",
       "    </tr>\n",
       "    <tr>\n",
       "      <th>75%</th>\n",
       "      <td>3504.00</td>\n",
       "      <td>2005.00</td>\n",
       "      <td>107735.51</td>\n",
       "    </tr>\n",
       "  </tbody>\n",
       "</table>\n",
       "</div>"
      ],
      "text/plain": [
       "        no_of_employees  yr_of_estab  prevailing_wage\n",
       "count          25480.00     25480.00         25480.00\n",
       "min              -26.00      1800.00             2.14\n",
       "max           602069.00      2016.00        319210.27\n",
       "mean            5667.04      1979.41         74455.81\n",
       "median          2109.00      1997.00         70308.21\n",
       "std            22877.93        42.37         52815.94\n",
       "25%             1022.00      1976.00         34015.48\n",
       "50%             2109.00      1997.00         70308.21\n",
       "75%             3504.00      2005.00        107735.51"
      ]
     },
     "execution_count": 150,
     "metadata": {},
     "output_type": "execute_result"
    }
   ],
   "source": [
    "dict4 = {}\n",
    "for i in numerical_col:\n",
    "    COUNT = round(df[i].count(),2)\n",
    "    MIN = round(df[i].min(),2)\n",
    "    MAX = round(df[i].max(),2)\n",
    "    MEAN = round(df[i].mean(),2)\n",
    "    MEDIAN = round(df[i].median(),2)\n",
    "    STD = round(df[i].std(),2)\n",
    "    q1 = round(np.percentile(df[i],25),2)\n",
    "    q2 = round(np.percentile(df[i],50),2)\n",
    "    q3 = round(np.percentile(df[i],75),2)\n",
    "    list2 = [COUNT,MIN,MAX,MEAN,MEDIAN,STD,q1,q2,q3]\n",
    "    dict4[i] = list2\n",
    "    # print(pd.DataFrame(list2,index =['count','min','max','mean','median','std'],columns=[i]))\n",
    "    # print(''.center(50,'-'))\n",
    "numerical_df = pd.DataFrame(dict4,index =['count','min','max','mean','median','std','25%','50%','75%'])\n",
    "print(dict4)\n",
    "numerical_df"
   ]
  },
  {
   "cell_type": "markdown",
   "metadata": {},
   "source": [
    "what is the mean of this"
   ]
  },
  {
   "cell_type": "code",
   "execution_count": null,
   "metadata": {},
   "outputs": [],
   "source": [
    "25 percentile of prevailing_wage observations from the total data has a value below 34015\n",
    "total_observation = 25480\n",
    "25 * 25480/100 = 6370\n",
    "so,6370 people have wage less then 34015"
   ]
  },
  {
   "cell_type": "code",
   "execution_count": 151,
   "metadata": {},
   "outputs": [
    {
     "data": {
      "text/plain": [
       "6370"
      ]
     },
     "execution_count": 151,
     "metadata": {},
     "output_type": "execute_result"
    }
   ],
   "source": [
    "len(df[df['prevailing_wage']<34015])"
   ]
  },
  {
   "cell_type": "markdown",
   "metadata": {},
   "source": [
    "$Emperical$-$Rule$\n",
    " -  (68-95-99.7 Rule)\n",
    "- __when data follows normal distribution__\n",
    " - 68% of the data falls within 1 standard deviation (σ) from the mean (μ).\n",
    "    Range: (μ - 1σ) to (μ + 1σ)\n",
    " - 95% of the data falls within 2 standard deviations (σ) from the mean.\n",
    "    Range: (μ - 2σ) to (μ + 2σ)\n",
    " - 99.7% of the data falls within 3 standard deviations (σ) from the mean.\n",
    "    Range: (μ - 3σ) to (μ + 3σ)\n",
    "\n",
    "\n",
    "    <img id=\"dimg_NSOiZ_2OA_iMseMP48vtiQY_327\" src=\"data:image/jpeg;base64,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\" class=\"YQ4gaf\" height=\"159\" style=\"object-position:0% 25%\" width=\"318\" alt=\"Empirical Rule (68-95-99.7) Explained ...\" data-csiid=\"NSOiZ_2OA_iMseMP48vtiQY_24\" data-atf=\"4\">\n",
    "- select any image on google\n",
    "- then right click and inspect it\n",
    "- right side you will get img src\n",
    "- right click on img src and then click edit as HTML\n",
    "- don't move your cursor\n",
    "- ctrl+a\n",
    "- ctrl+c\n",
    "- ctrl+v\n",
    "- ESC+M\n",
    "- shift+enter"
   ]
  },
  {
   "cell_type": "markdown",
   "metadata": {},
   "source": [
    "__when data follows normal distribution__\n",
    "- u-1 sigma to u+1 sigma: 68%\n",
    "- u-1 sigma to u+1 sigma: 95%\n",
    "- u-1 sigma to u+1 sigma: 99.7%"
   ]
  },
  {
   "cell_type": "code",
   "execution_count": 18,
   "metadata": {},
   "outputs": [
    {
     "ename": "NameError",
     "evalue": "name 'wage_mean' is not defined",
     "output_type": "error",
     "traceback": [
      "\u001b[1;31m---------------------------------------------------------------------------\u001b[0m",
      "\u001b[1;31mNameError\u001b[0m                                 Traceback (most recent call last)",
      "Cell \u001b[1;32mIn[18], line 1\u001b[0m\n\u001b[1;32m----> 1\u001b[0m \u001b[38;5;28mprint\u001b[39m(wage_mean,wage_std)\n",
      "\u001b[1;31mNameError\u001b[0m: name 'wage_mean' is not defined"
     ]
    }
   ],
   "source": [
    "print(wage_mean,wage_std)"
   ]
  },
  {
   "cell_type": "code",
   "execution_count": 17,
   "metadata": {},
   "outputs": [
    {
     "ename": "NameError",
     "evalue": "name 'wage_mean' is not defined",
     "output_type": "error",
     "traceback": [
      "\u001b[1;31m---------------------------------------------------------------------------\u001b[0m",
      "\u001b[1;31mNameError\u001b[0m                                 Traceback (most recent call last)",
      "Cell \u001b[1;32mIn[17], line 2\u001b[0m\n\u001b[0;32m      1\u001b[0m \u001b[38;5;66;03m################### 68% ######################\u001b[39;00m\n\u001b[1;32m----> 2\u001b[0m val_minus_1 \u001b[38;5;241m=\u001b[39m \u001b[38;5;28mround\u001b[39m(wage_mean\u001b[38;5;241m-\u001b[39m\u001b[38;5;241m1\u001b[39m\u001b[38;5;241m*\u001b[39mwage_std,\u001b[38;5;241m2\u001b[39m)\n\u001b[0;32m      3\u001b[0m val_plus_1 \u001b[38;5;241m=\u001b[39m \u001b[38;5;28mround\u001b[39m(wage_mean\u001b[38;5;241m+\u001b[39m\u001b[38;5;241m1\u001b[39m\u001b[38;5;241m*\u001b[39mwage_std,\u001b[38;5;241m2\u001b[39m)\n\u001b[0;32m      4\u001b[0m \u001b[38;5;66;03m################### 95% ######################\u001b[39;00m\n",
      "\u001b[1;31mNameError\u001b[0m: name 'wage_mean' is not defined"
     ]
    }
   ],
   "source": [
    "################### 68% ######################\n",
    "val_minus_1 = round(wage_mean-1*wage_std,2)\n",
    "val_plus_1 = round(wage_mean+1*wage_std,2)\n",
    "################### 95% ######################\n",
    "val_minus_2 = round(wage_mean-2*wage_std,2)\n",
    "val_plus_2 = round(wage_mean+2*wage_std,2)\n",
    "################### 99.7% ######################\n",
    "val_minus_3 = round(wage_mean-3*wage_std,2)\n",
    "val_plus_3 = round(wage_mean+3*wage_std,2)\n",
    "print(val_minus_1,val_plus_1,val_minus_2,val_plus_2,val_minus_3,val_plus_3)"
   ]
  },
  {
   "cell_type": "markdown",
   "metadata": {},
   "source": [
    "- 68 percentage of observations have value between [21639.87,127271.75]\n",
    "- 95 percentage of observations have value between [-31176.07.87,180087.69]\n",
    "- 99.7 percentage of observations have value between [-83992.01,232903.63]"
   ]
  },
  {
   "cell_type": "code",
   "execution_count": 16,
   "metadata": {},
   "outputs": [
    {
     "ename": "NameError",
     "evalue": "name 'val_minus_1' is not defined",
     "output_type": "error",
     "traceback": [
      "\u001b[1;31m---------------------------------------------------------------------------\u001b[0m",
      "\u001b[1;31mNameError\u001b[0m                                 Traceback (most recent call last)",
      "Cell \u001b[1;32mIn[16], line 1\u001b[0m\n\u001b[1;32m----> 1\u001b[0m cond1 \u001b[38;5;241m=\u001b[39m df[\u001b[38;5;124m'\u001b[39m\u001b[38;5;124mprevailing_wage\u001b[39m\u001b[38;5;124m'\u001b[39m] \u001b[38;5;241m>\u001b[39m val_minus_1\n\u001b[0;32m      2\u001b[0m cond2 \u001b[38;5;241m=\u001b[39m df[\u001b[38;5;124m'\u001b[39m\u001b[38;5;124mprevailing_wage\u001b[39m\u001b[38;5;124m'\u001b[39m] \u001b[38;5;241m<\u001b[39m val_plus_1\n\u001b[0;32m      3\u001b[0m \u001b[38;5;28mlen\u001b[39m(df[cond1\u001b[38;5;241m&\u001b[39mcond2])\n",
      "\u001b[1;31mNameError\u001b[0m: name 'val_minus_1' is not defined"
     ]
    }
   ],
   "source": [
    "cond1 = df['prevailing_wage'] > val_minus_1\n",
    "cond2 = df['prevailing_wage'] < val_plus_1\n",
    "len(df[cond1&cond2])"
   ]
  },
  {
   "cell_type": "code",
   "execution_count": 160,
   "metadata": {},
   "outputs": [
    {
     "data": {
      "text/plain": [
       "0.673901098901099"
      ]
     },
     "execution_count": 160,
     "metadata": {},
     "output_type": "execute_result"
    }
   ],
   "source": [
    "len(df[cond1&cond2])/len(df) #nearly 68"
   ]
  },
  {
   "cell_type": "code",
   "execution_count": 161,
   "metadata": {},
   "outputs": [
    {
     "data": {
      "text/plain": [
       "24582"
      ]
     },
     "execution_count": 161,
     "metadata": {},
     "output_type": "execute_result"
    }
   ],
   "source": [
    "cond3 = df['prevailing_wage'] > val_minus_2\n",
    "cond4 = df['prevailing_wage'] < val_plus_2\n",
    "len(df[cond3&cond4])"
   ]
  },
  {
   "cell_type": "code",
   "execution_count": 162,
   "metadata": {},
   "outputs": [
    {
     "data": {
      "text/plain": [
       "0.9647566718995291"
      ]
     },
     "execution_count": 162,
     "metadata": {},
     "output_type": "execute_result"
    }
   ],
   "source": [
    "len(df[cond3&cond4])/len(df) # nearly 95"
   ]
  },
  {
   "cell_type": "code",
   "execution_count": 163,
   "metadata": {},
   "outputs": [
    {
     "data": {
      "text/plain": [
       "25186"
      ]
     },
     "execution_count": 163,
     "metadata": {},
     "output_type": "execute_result"
    }
   ],
   "source": [
    "cond5 = df['prevailing_wage'] > val_minus_3\n",
    "cond6 = df['prevailing_wage'] < val_plus_3\n",
    "len(df[cond5&cond6])"
   ]
  },
  {
   "cell_type": "code",
   "execution_count": 165,
   "metadata": {},
   "outputs": [
    {
     "data": {
      "text/plain": [
       "0.9884615384615385"
      ]
     },
     "execution_count": 165,
     "metadata": {},
     "output_type": "execute_result"
    }
   ],
   "source": [
    "len(df[cond5&cond6])/len(df) # nearly 99.7"
   ]
  },
  {
   "cell_type": "markdown",
   "metadata": {},
   "source": [
    "- wage_mean = 74455.81\n",
    "- wage_std = 52815.94\n",
    "- wage_median = 70308.21\n",
    "- if median < mean,then data might be right skewed\n",
    "- but percentage of data almost valid with empiricle rule\n",
    "- it is look like normal distribution but slightly right skewed\n",
    "- in order to see that draw histogram"
   ]
  },
  {
   "cell_type": "code",
   "execution_count": 35,
   "metadata": {},
   "outputs": [
    {
     "data": {
      "text/plain": [
       "(array([6038., 5504., 5681., 4551., 2334.,  624.,  373.,  240.,  114.,\n",
       "          21.]),\n",
       " array([2.13670000e+00, 3.19229500e+04, 6.38437634e+04, 9.57645767e+04,\n",
       "        1.27685390e+05, 1.59606203e+05, 1.91527017e+05, 2.23447830e+05,\n",
       "        2.55368643e+05, 2.87289457e+05, 3.19210270e+05]),\n",
       " <BarContainer object of 10 artists>)"
      ]
     },
     "execution_count": 35,
     "metadata": {},
     "output_type": "execute_result"
    },
    {
     "data": {
      "image/png": "[encoded data removed]",
      "text/plain": [
       "<Figure size 640x480 with 1 Axes>"
      ]
     },
     "metadata": {},
     "output_type": "display_data"
    }
   ],
   "source": [
    "plt.hist(df['prevailing_wage'])\n",
    "# by default it will give as 10 intervals\n",
    "# if u want to increase the intervals,there is argument name call 'bins'"
   ]
  },
  {
   "cell_type": "code",
   "execution_count": 36,
   "metadata": {},
   "outputs": [
    {
     "data": {
      "text/plain": [
       "(array([2992.,  871., 1005., 1170., 1242., 1434., 1385., 1443., 1444.,\n",
       "        1445., 1457., 1335., 1268., 1217., 1088.,  978.,  807.,  645.,\n",
       "         509.,  373.,  264.,  144.,  105.,  111.,  107.,   99.,   88.,\n",
       "          79.,   65.,   64.,   58.,   53.,   33.,   33.,   29.,   19.,\n",
       "           7.,    3.,    6.,    5.]),\n",
       " array([2.13670000e+00, 7.98234003e+03, 1.59625434e+04, 2.39427467e+04,\n",
       "        3.19229500e+04, 3.99031534e+04, 4.78833567e+04, 5.58635600e+04,\n",
       "        6.38437634e+04, 7.18239667e+04, 7.98041700e+04, 8.77843734e+04,\n",
       "        9.57645767e+04, 1.03744780e+05, 1.11724983e+05, 1.19705187e+05,\n",
       "        1.27685390e+05, 1.35665593e+05, 1.43645797e+05, 1.51626000e+05,\n",
       "        1.59606203e+05, 1.67586407e+05, 1.75566610e+05, 1.83546813e+05,\n",
       "        1.91527017e+05, 1.99507220e+05, 2.07487423e+05, 2.15467627e+05,\n",
       "        2.23447830e+05, 2.31428033e+05, 2.39408237e+05, 2.47388440e+05,\n",
       "        2.55368643e+05, 2.63348847e+05, 2.71329050e+05, 2.79309253e+05,\n",
       "        2.87289457e+05, 2.95269660e+05, 3.03249863e+05, 3.11230067e+05,\n",
       "        3.19210270e+05]),\n",
       " <BarContainer object of 40 artists>)"
      ]
     },
     "execution_count": 36,
     "metadata": {},
     "output_type": "execute_result"
    },
    {
     "data": {
      "image/png": "[encoded data removed]",
      "text/plain": [
       "<Figure size 640x480 with 1 Axes>"
      ]
     },
     "metadata": {},
     "output_type": "display_data"
    }
   ],
   "source": [
    "plt.hist(df['prevailing_wage'],bins=40)"
   ]
  },
  {
   "cell_type": "code",
   "execution_count": null,
   "metadata": {},
   "outputs": [
    {
     "data": {
      "text/plain": [
       "(array([2992.,  871., 1005., 1170., 1242., 1434., 1385., 1443., 1444.,\n",
       "        1445., 1457., 1335., 1268., 1217., 1088.,  978.,  807.,  645.,\n",
       "         509.,  373.,  264.,  144.,  105.,  111.,  107.,   99.,   88.,\n",
       "          79.,   65.,   64.,   58.,   53.,   33.,   33.,   29.,   19.,\n",
       "           7.,    3.,    6.,    5.]),\n",
       " array([2.13670000e+00, 7.98234003e+03, 1.59625434e+04, 2.39427467e+04,\n",
       "        3.19229500e+04, 3.99031534e+04, 4.78833567e+04, 5.58635600e+04,\n",
       "        6.38437634e+04, 7.18239667e+04, 7.98041700e+04, 8.77843734e+04,\n",
       "        9.57645767e+04, 1.03744780e+05, 1.11724983e+05, 1.19705187e+05,\n",
       "        1.27685390e+05, 1.35665593e+05, 1.43645797e+05, 1.51626000e+05,\n",
       "        1.59606203e+05, 1.67586407e+05, 1.75566610e+05, 1.83546813e+05,\n",
       "        1.91527017e+05, 1.99507220e+05, 2.07487423e+05, 2.15467627e+05,\n",
       "        2.23447830e+05, 2.31428033e+05, 2.39408237e+05, 2.47388440e+05,\n",
       "        2.55368643e+05, 2.63348847e+05, 2.71329050e+05, 2.79309253e+05,\n",
       "        2.87289457e+05, 2.95269660e+05, 3.03249863e+05, 3.11230067e+05,\n",
       "        3.19210270e+05]),\n",
       " <BarContainer object of 40 artists>)"
      ]
     },
     "execution_count": 33,
     "metadata": {},
     "output_type": "execute_result"
    },
    {
     "data": {
      "image/png": "[encoded data removed]",
      "text/plain": [
       "<Figure size 640x480 with 1 Axes>"
      ]
     },
     "metadata": {},
     "output_type": "display_data"
    }
   ],
   "source": [
    "plt.hist(df['prevailing_wage'],bins=40)\n",
    "# it is giving 3 values frequency,interval,n\n",
    "# frequency means number of obsevation are fall b/w an interwal\n",
    "# interval means a period of time between two events\n",
    "# n means number of intervals"
   ]
  },
  {
   "cell_type": "code",
   "execution_count": null,
   "metadata": {},
   "outputs": [
    {
     "data": {
      "text/plain": [
       "(2.1367, 7982.34003)"
      ]
     },
     "execution_count": 31,
     "metadata": {},
     "output_type": "execute_result"
    }
   ],
   "source": [
    "2.13670000e+00, 7.98234003e+03\n",
    "# so,2992 observations are between 2.13670000e+00, 7.98234003e+03\n",
    "# 871 observation between 7.98234003e+03,1.59625434e+04"
   ]
  },
  {
   "cell_type": "code",
   "execution_count": 34,
   "metadata": {},
   "outputs": [
    {
     "data": {
      "image/png": "[encoded data removed]",
      "text/plain": [
       "<Figure size 640x480 with 1 Axes>"
      ]
     },
     "metadata": {},
     "output_type": "display_data"
    }
   ],
   "source": [
    "frequency,interval,n=plt.hist(df['prevailing_wage'],bins=40)"
   ]
  },
  {
   "cell_type": "code",
   "execution_count": 39,
   "metadata": {},
   "outputs": [
    {
     "data": {
      "text/plain": [
       "(40, 41, 40)"
      ]
     },
     "execution_count": 39,
     "metadata": {},
     "output_type": "execute_result"
    }
   ],
   "source": [
    "len(frequency),len(interval),len(n)"
   ]
  },
  {
   "cell_type": "code",
   "execution_count": null,
   "metadata": {},
   "outputs": [],
   "source": [
    "# 2992 OBSERVATIONS ARE B/W 2.13670000 AND 7.98234003\n",
    "# VERIFY \n",
    "# STEP1: _write condition1 = <col> > 2.13_\n",
    "# STEP2: _write condition2= <col> < 7.98_\n",
    "# step3: _condition1&condition2_\n",
    "# step4: _col[condition1&condition2]_\n",
    "# step5: _len(col[condition1&condition2])_"
   ]
  },
  {
   "cell_type": "code",
   "execution_count": 44,
   "metadata": {},
   "outputs": [
    {
     "data": {
      "text/plain": [
       "2991"
      ]
     },
     "execution_count": 44,
     "metadata": {},
     "output_type": "execute_result"
    }
   ],
   "source": [
    "condi1 = df['prevailing_wage']>2.13670000e+00\n",
    "condi2 = df['prevailing_wage']<7.98234003e+03\n",
    "len(df[condi1&condi2])"
   ]
  },
  {
   "cell_type": "code",
   "execution_count": 47,
   "metadata": {},
   "outputs": [
    {
     "data": {
      "text/plain": [
       "2992"
      ]
     },
     "execution_count": 47,
     "metadata": {},
     "output_type": "execute_result"
    }
   ],
   "source": [
    "len(df[df['prevailing_wage'].between(2.13670000e+00,7.98234003e+03)])"
   ]
  },
  {
   "cell_type": "code",
   "execution_count": null,
   "metadata": {},
   "outputs": [
    {
     "data": {
      "text/plain": [
       "education_of_employee\n",
       "Bachelor's               0.401648\n",
       "Master's                 0.378100\n",
       "High School              0.134223\n",
       "Doctorate                0.086028\n",
       "Name: proportion, dtype: float64"
      ]
     },
     "execution_count": 37,
     "metadata": {},
     "output_type": "execute_result"
    }
   ],
   "source": [
    "df[['education_of_employee']].value_counts(normalize=True,dropna=False) if there is nan value in quality column"
   ]
  },
  {
   "cell_type": "code",
   "execution_count": null,
   "metadata": {},
   "outputs": [],
   "source": [
    "df.fillna(value='ffill')\n",
    "df.ffill()\n",
    "df.bfill()\n",
    "df.fillna(value={})"
   ]
  },
  {
   "cell_type": "code",
   "execution_count": 32,
   "metadata": {},
   "outputs": [
    {
     "name": "stdout",
     "output_type": "stream",
     "text": [
      "+916306907105\n"
     ]
    }
   ],
   "source": [
    "import random\n",
    "num1 = str(63)\n",
    "for i in range(8):\n",
    "    num1 = num1 + str(random.randint(0,9))\n",
    "print(\"+91\"+num1)"
   ]
  }
 ],
 "metadata": {
  "kernelspec": {
   "display_name": "new_env",
   "language": "python",
   "name": "python3"
  },
  "language_info": {
   "codemirror_mode": {
    "name": "ipython",
    "version": 3
   },
   "file_extension": ".py",
   "mimetype": "text/x-python",
   "name": "python",
   "nbconvert_exporter": "python",
   "pygments_lexer": "ipython3",
   "version": "3.12.8"
  }
 },
 "nbformat": 4,
 "nbformat_minor": 2
}
